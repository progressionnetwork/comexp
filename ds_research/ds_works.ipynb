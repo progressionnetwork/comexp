{
 "cells": [
  {
   "cell_type": "code",
   "execution_count": 1,
   "metadata": {
    "ExecuteTime": {
     "end_time": "2023-05-21T10:07:09.679288Z",
     "start_time": "2023-05-21T10:06:56.308992Z"
    }
   },
   "outputs": [],
   "source": [
    "import os, sys\n",
    "import pandas as pd\n",
    "import numpy as np\n",
    "import openpyxl\n",
    "from sklearn.preprocessing import MinMaxScaler\n",
    "from slugify import slugify"
   ]
  },
  {
   "cell_type": "code",
   "execution_count": 2,
   "metadata": {
    "ExecuteTime": {
     "end_time": "2023-05-21T10:07:32.411420Z",
     "start_time": "2023-05-21T10:07:32.387484Z"
    }
   },
   "outputs": [],
   "source": [
    "# path configurator\n",
    "\n",
    "path_m = r'C:\\\\Users\\\\user\\\\Desktop\\\\10\\\\'\n",
    "events_by_cat = path_m+'5_Типы событий, регистрируемых по типу объекта многоквартирный дом.xlsx'\n",
    "work_types_by_support = path_m+'5_Типы событий, регистрируемых по типу объекта многоквартирный дом.xlsx'\n",
    "work_types_by_cap = path_m+'4_Виды работ по капитальному ремонту многоквартирных домов.xlsx'\n",
    "works_done = path_m+'3_Работы по капитальному ремонту, проведенные в многоквартирных домах.xlsx'\n",
    "incidents = path_m+'2_Инциденты,_зарегистрированные_на_объектах_городского_хозяйства.xlsx'\n",
    "multi_houses_characts = path_m+'1_Многоквартирные дома с технико-экономическими характеристиками.xlsx'"
   ]
  },
  {
   "cell_type": "code",
   "execution_count": 87,
   "metadata": {
    "ExecuteTime": {
     "end_time": "2023-05-21T10:24:02.469888Z",
     "start_time": "2023-05-21T10:24:02.412041Z"
    }
   },
   "outputs": [
    {
     "name": "stdout",
     "output_type": "stream",
     "text": [
      "kraskovskaia_121a\n",
      "rokossovskogo_marshala_bulv_7\n",
      "dmitrievskogo_5\n",
      "bolshaia_cherkizovskaia_30\n",
      "krasnobogatyrskaia_21\n"
     ]
    }
   ],
   "source": [
    "# function to preprocess some russian strings to slugs\n",
    "\n",
    "def slug_me(str_inp):\n",
    "    if type(str_inp) == str:\n",
    "        str_inp = str_inp.replace('Российская Федерация, город Москва, ', '')\n",
    "        if ', к.' in str_inp:\n",
    "            str_inp = str_inp.split(',')[0:2]\n",
    "            str_inp = ''.join(str_inp)\n",
    "        if 'муниципальный округ' in str_inp:\n",
    "            str_inp = str_inp.split(',')[1:3]\n",
    "            str_inp = ''.join(str_inp)\n",
    "        str_inp = str_inp.replace('Дом по адресу ', '')\n",
    "        str_inp = str_inp.replace('Адрес ', '')\n",
    "        str_inp = str_inp.replace('дом ', '')\n",
    "        str_inp = str_inp.replace('район ', '')\n",
    "        str_inp = str_inp.replace('улица ', '')\n",
    "        str_inp = str_inp.replace('ул.', '')\n",
    "        str_inp = str_inp.replace('д.', '')\n",
    "        str_inp = str_inp.replace(',', '')\n",
    "        rez = slugify(str_inp, allow_unicode=False, lowercase=True, save_order=True, separator=\"_\")\n",
    "        return rez\n",
    "    else:\n",
    "        rez = 'err'\n",
    "\n",
    "print(slug_me(\"Дом по адресу Красковская ул., д.121А\"))\n",
    "print(slug_me(\"Дом по адресу Рокоссовского Маршала бульв., д.7, к.4\"))\n",
    "print(slug_me(\"внутригородская территория муниципальный округ Косино-Ухтомский, улица Дмитриевского, дом 5\"))\n",
    "print(slug_me(\"внутригородская территория муниципальный округ Преображенское, Большая Черкизовская улица, дом 30, корпус 5\"))\n",
    "print(slug_me(\"Российская Федерация, город Москва, внутригородская территория муниципальный округ Богородское, Краснобогатырская улица, дом 21\"))"
   ]
  },
  {
   "cell_type": "code",
   "execution_count": 105,
   "metadata": {
    "ExecuteTime": {
     "end_time": "2023-05-21T10:08:09.808392Z",
     "start_time": "2023-05-21T10:07:47.790288Z"
    }
   },
   "outputs": [
    {
     "name": "stderr",
     "output_type": "stream",
     "text": [
      "UsageError: Line magic function `%%timeit` not found.\n"
     ]
    }
   ],
   "source": [
    "# load xlsx datasets to mem\n",
    "\n",
    "df_incidents = pd.read_excel(incidents)\n",
    "df_multi_houses_characts = pd.read_excel(multi_houses_characts)\n",
    "df_work_types_by_cap = pd.read_excel(work_types_by_cap)\n",
    "df_events_by_cat = pd.read_excel(events_by_cat)\n",
    "df_works_done = pd.read_excel(works_done)"
   ]
  },
  {
   "cell_type": "code",
   "execution_count": 130,
   "metadata": {
    "ExecuteTime": {
     "end_time": "2023-05-21T10:39:24.886743Z",
     "start_time": "2023-05-21T10:39:24.871844Z"
    }
   },
   "outputs": [],
   "source": [
    "# create a tmp dataframes to avoid changing of originals\n",
    "\n",
    "df_incidents_tmp = df_incidents\n",
    "df_multi_houses_characts_tmp = df_multi_houses_characts\n",
    "df_work_types_by_cap_tmp = df_work_types_by_cap\n",
    "df_events_by_cat_tmp = df_events_by_cat\n",
    "df_works_done_tmp = df_works_done\n",
    "\n",
    "# filling NaNs with nulls\n",
    "\n",
    "df_incidents_tmp = df_incidents_tmp.fillna(0)\n",
    "df_multi_houses_characts_tmp = df_multi_houses_characts_tmp.fillna(0)\n",
    "df_work_types_by_cap_tmp = df_work_types_by_cap_tmp.fillna(0)\n",
    "df_events_by_cat_tmp = df_events_by_cat_tmp.fillna(0)\n",
    "df_works_done_tmp = df_works_done_tmp.fillna(0)"
   ]
  },
  {
   "cell_type": "code",
   "execution_count": null,
   "metadata": {
    "ExecuteTime": {
     "end_time": "2023-05-21T10:46:05.145079Z",
     "start_time": "2023-05-21T10:46:05.006449Z"
    }
   },
   "outputs": [],
   "source": [
    "print(df_tmp.describe())"
   ]
  },
  {
   "cell_type": "markdown",
   "metadata": {},
   "source": [
    "## 1_Многоквартирные дома с технико-экономическими характеристиками.xlsx"
   ]
  },
  {
   "cell_type": "code",
   "execution_count": 138,
   "metadata": {
    "ExecuteTime": {
     "end_time": "2023-05-21T10:40:02.220874Z",
     "start_time": "2023-05-21T10:40:01.858793Z"
    }
   },
   "outputs": [],
   "source": [
    "df_multi_houses_characts_tmp = df_multi_houses_characts_tmp.iloc[1:] # to remove russian captions from ds\n",
    "\n",
    "names = {\n",
    "            'COL_754': 'dest', # Назначение\n",
    "            'COL_756': 'build_year', # Год постройки\n",
    "            'COL_757': 'reconst_year', # Год реконструкции\n",
    "            'COL_755': 'ownership', # Форма собственности\n",
    "            'COL_759': 'floars', # Количество этажей\n",
    "            'COL_760': 'entrances', # Количество подъездов\n",
    "            'COL_761': 'apartments', # Количество квартир\n",
    "            'COL_782': 'unom', # unom\n",
    "            'COL_758': 'project_series', # Серия проекта\n",
    "            'COL_762': 'total_area', # Общая площадь\n",
    "            'COL_763': 'living_area', # Общая площадь жилых помещений\n",
    "            'COL_764': 'nonliving_area', # Общая площадь нежилых помещений\n",
    "            'COL_765': 'construction_volume', # Строительный объем\n",
    "            'COL_766': 'depreciation_object', # Износ объекта (по БТИ)\n",
    "            'COL_767': 'energyefficiency_class', # Класс энергоэффективности\n",
    "            'COL_769': 'wall_material', # Материал стен\n",
    "            'COL_770': 'sign_building_failure', # Признак аварийности здания\n",
    "            'COL_771': 'passenger_elevators',  # Количество пассажирских лифтов\n",
    "            'COL_3363': 'freight_elevators', # Количество грузовых лифтов\n",
    "            'COL_772': 'passenger_freight_elevators', # Количество грузопассажирских лифтов\n",
    "            'COL_775': 'roof_cleaning', # Очередность уборки кровли\n",
    "            'COL_2156': 'type_social_object', # Вид социального объекта\n",
    "            'COL_2463': 'type_housing_stock', # Тип жилищного фонда\n",
    "            'COL_3163': 'status_MKD', # Статус МКД\n",
    "            'COL_3243': 'management_status_MKD', # Статус управления МКД\n",
    "            'COL_3468': 'reason_changing_status_MKD', # Причина Изменения Статуса МКД\n",
    "            'COL_103506': 'category_MKD', # Категория МКД\n",
    "         }\n",
    "\n",
    "# rename column names\n",
    "df_multi_houses_characts_tmp = df_multi_houses_characts_tmp.rename(columns=names)\n",
    "df_multi_houses_characts_tmp['NAME'] = df_multi_houses_characts_tmp['NAME'].apply(slug_me)\n",
    "df_multi_houses_characts_tmp['dest'] = df_multi_houses_characts_tmp['dest'].apply(slug_me)\n",
    "df_multi_houses_characts_tmp['unom'] = df_multi_houses_characts_tmp['unom'].apply(int)"
   ]
  },
  {
   "cell_type": "code",
   "execution_count": 139,
   "metadata": {
    "ExecuteTime": {
     "end_time": "2023-05-21T10:42:47.235445Z",
     "start_time": "2023-05-21T10:42:47.040964Z"
    }
   },
   "outputs": [
    {
     "data": {
      "text/html": [
       "<div>\n",
       "<style scoped>\n",
       "    .dataframe tbody tr th:only-of-type {\n",
       "        vertical-align: middle;\n",
       "    }\n",
       "\n",
       "    .dataframe tbody tr th {\n",
       "        vertical-align: top;\n",
       "    }\n",
       "\n",
       "    .dataframe thead th {\n",
       "        text-align: right;\n",
       "    }\n",
       "</style>\n",
       "<table border=\"1\" class=\"dataframe\">\n",
       "  <thead>\n",
       "    <tr style=\"text-align: right;\">\n",
       "      <th></th>\n",
       "      <th>ID</th>\n",
       "      <th>NAME</th>\n",
       "      <th>PARENT_ID</th>\n",
       "      <th>LOGIN</th>\n",
       "      <th>dest</th>\n",
       "      <th>ownership</th>\n",
       "      <th>build_year</th>\n",
       "      <th>reconst_year</th>\n",
       "      <th>project_series</th>\n",
       "      <th>floars</th>\n",
       "      <th>...</th>\n",
       "      <th>roof_cleaning</th>\n",
       "      <th>COL_781</th>\n",
       "      <th>unom</th>\n",
       "      <th>type_social_object</th>\n",
       "      <th>type_housing_stock</th>\n",
       "      <th>status_MKD</th>\n",
       "      <th>management_status_MKD</th>\n",
       "      <th>freight_elevators</th>\n",
       "      <th>reason_changing_status_MKD</th>\n",
       "      <th>category_MKD</th>\n",
       "    </tr>\n",
       "  </thead>\n",
       "  <tbody>\n",
       "    <tr>\n",
       "      <th>1</th>\n",
       "      <td>1500923.0</td>\n",
       "      <td>kraskovskaia_121a</td>\n",
       "      <td>0.0</td>\n",
       "      <td>WS</td>\n",
       "      <td>None</td>\n",
       "      <td>0</td>\n",
       "      <td>1956</td>\n",
       "      <td>0</td>\n",
       "      <td>2048798</td>\n",
       "      <td>1</td>\n",
       "      <td>...</td>\n",
       "      <td>0</td>\n",
       "      <td>22289204</td>\n",
       "      <td>49928</td>\n",
       "      <td>0</td>\n",
       "      <td>22741963</td>\n",
       "      <td>58761330</td>\n",
       "      <td>0</td>\n",
       "      <td>0</td>\n",
       "      <td>0</td>\n",
       "      <td>0</td>\n",
       "    </tr>\n",
       "    <tr>\n",
       "      <th>2</th>\n",
       "      <td>1500933.0</td>\n",
       "      <td>baikalskaia_18</td>\n",
       "      <td>0.0</td>\n",
       "      <td>WS</td>\n",
       "      <td>None</td>\n",
       "      <td>0</td>\n",
       "      <td>2005</td>\n",
       "      <td>0</td>\n",
       "      <td>2048798</td>\n",
       "      <td>18</td>\n",
       "      <td>...</td>\n",
       "      <td>0</td>\n",
       "      <td>22289201</td>\n",
       "      <td>64148</td>\n",
       "      <td>0</td>\n",
       "      <td>42875644</td>\n",
       "      <td>58761330</td>\n",
       "      <td>45063584</td>\n",
       "      <td>0</td>\n",
       "      <td>0</td>\n",
       "      <td>0</td>\n",
       "    </tr>\n",
       "    <tr>\n",
       "      <th>3</th>\n",
       "      <td>1500943.0</td>\n",
       "      <td>perovskaia_48</td>\n",
       "      <td>0.0</td>\n",
       "      <td>WS</td>\n",
       "      <td>None</td>\n",
       "      <td>0</td>\n",
       "      <td>1955</td>\n",
       "      <td>0</td>\n",
       "      <td>2048912</td>\n",
       "      <td>4</td>\n",
       "      <td>...</td>\n",
       "      <td>22289162</td>\n",
       "      <td>22289204</td>\n",
       "      <td>19485</td>\n",
       "      <td>0</td>\n",
       "      <td>42875644</td>\n",
       "      <td>58761330</td>\n",
       "      <td>45063584</td>\n",
       "      <td>0</td>\n",
       "      <td>0</td>\n",
       "      <td>0</td>\n",
       "    </tr>\n",
       "    <tr>\n",
       "      <th>4</th>\n",
       "      <td>1500951.0</td>\n",
       "      <td>parkovaia_3_ia_39</td>\n",
       "      <td>0.0</td>\n",
       "      <td>404070001</td>\n",
       "      <td>None</td>\n",
       "      <td>0</td>\n",
       "      <td>1960</td>\n",
       "      <td>0</td>\n",
       "      <td>2048912</td>\n",
       "      <td>5</td>\n",
       "      <td>...</td>\n",
       "      <td>22289162</td>\n",
       "      <td>22289201</td>\n",
       "      <td>18533</td>\n",
       "      <td>0</td>\n",
       "      <td>42875644</td>\n",
       "      <td>58761330</td>\n",
       "      <td>45063584</td>\n",
       "      <td>0</td>\n",
       "      <td>0</td>\n",
       "      <td>0</td>\n",
       "    </tr>\n",
       "    <tr>\n",
       "      <th>5</th>\n",
       "      <td>1500954.0</td>\n",
       "      <td>svobodnyi_prosp_11</td>\n",
       "      <td>0.0</td>\n",
       "      <td>WS</td>\n",
       "      <td>None</td>\n",
       "      <td>0</td>\n",
       "      <td>1973</td>\n",
       "      <td>0</td>\n",
       "      <td>2048755</td>\n",
       "      <td>9</td>\n",
       "      <td>...</td>\n",
       "      <td>0</td>\n",
       "      <td>22289201</td>\n",
       "      <td>22830</td>\n",
       "      <td>0</td>\n",
       "      <td>42875644</td>\n",
       "      <td>58761330</td>\n",
       "      <td>45063584</td>\n",
       "      <td>0</td>\n",
       "      <td>0</td>\n",
       "      <td>0</td>\n",
       "    </tr>\n",
       "  </tbody>\n",
       "</table>\n",
       "<p>5 rows × 32 columns</p>\n",
       "</div>"
      ],
      "text/plain": [
       "          ID                NAME  PARENT_ID      LOGIN  dest ownership   \n",
       "1  1500923.0   kraskovskaia_121a        0.0         WS  None         0  \\\n",
       "2  1500933.0      baikalskaia_18        0.0         WS  None         0   \n",
       "3  1500943.0       perovskaia_48        0.0         WS  None         0   \n",
       "4  1500951.0   parkovaia_3_ia_39        0.0  404070001  None         0   \n",
       "5  1500954.0  svobodnyi_prosp_11        0.0         WS  None         0   \n",
       "\n",
       "  build_year reconst_year project_series floars  ... roof_cleaning   COL_781   \n",
       "1       1956            0        2048798      1  ...             0  22289204  \\\n",
       "2       2005            0        2048798     18  ...             0  22289201   \n",
       "3       1955            0        2048912      4  ...      22289162  22289204   \n",
       "4       1960            0        2048912      5  ...      22289162  22289201   \n",
       "5       1973            0        2048755      9  ...             0  22289201   \n",
       "\n",
       "    unom type_social_object type_housing_stock status_MKD   \n",
       "1  49928                  0           22741963   58761330  \\\n",
       "2  64148                  0           42875644   58761330   \n",
       "3  19485                  0           42875644   58761330   \n",
       "4  18533                  0           42875644   58761330   \n",
       "5  22830                  0           42875644   58761330   \n",
       "\n",
       "  management_status_MKD freight_elevators reason_changing_status_MKD   \n",
       "1                     0                 0                          0  \\\n",
       "2              45063584                 0                          0   \n",
       "3              45063584                 0                          0   \n",
       "4              45063584                 0                          0   \n",
       "5              45063584                 0                          0   \n",
       "\n",
       "  category_MKD  \n",
       "1            0  \n",
       "2            0  \n",
       "3            0  \n",
       "4            0  \n",
       "5            0  \n",
       "\n",
       "[5 rows x 32 columns]"
      ]
     },
     "execution_count": 139,
     "metadata": {},
     "output_type": "execute_result"
    }
   ],
   "source": [
    "df_multi_houses_characts_tmp.head()"
   ]
  },
  {
   "cell_type": "code",
   "execution_count": 103,
   "metadata": {},
   "outputs": [
    {
     "name": "stdout",
     "output_type": "stream",
     "text": [
      "ID NAME PARENT_ID LOGIN dest ownership build_year reconst_year project_series floars entrances apartments total_area living_area nonliving_area construction_volume depreciation_object energyefficiency_class wall_material sign_building_failure passenger_elevators passenger_freight_elevators roof_cleaning COL_781 unom type_social_object type_housing_stock status_MKD management_status_MKD freight_elevators reason_changing_status_MKD category_MKD "
     ]
    }
   ],
   "source": [
    "for c in df_multi_houses_characts_tmp.columns:\n",
    "    print(c, end=' ')"
   ]
  },
  {
   "cell_type": "markdown",
   "metadata": {
    "ExecuteTime": {
     "end_time": "2023-05-21T10:09:48.854364Z",
     "start_time": "2023-05-21T10:09:48.818366Z"
    }
   },
   "source": [
    "## 2_Инциденты,_зарегистрированные_на_объектах_городского_хозяйства.xlsx"
   ]
  },
  {
   "cell_type": "code",
   "execution_count": 140,
   "metadata": {
    "ExecuteTime": {
     "end_time": "2023-05-21T10:39:43.200700Z",
     "start_time": "2023-05-21T10:39:38.325738Z"
    }
   },
   "outputs": [
    {
     "ename": "KeyError",
     "evalue": "\"['LOGIN'] not found in axis\"",
     "output_type": "error",
     "traceback": [
      "\u001b[1;31m---------------------------------------------------------------------------\u001b[0m",
      "\u001b[1;31mKeyError\u001b[0m                                  Traceback (most recent call last)",
      "Cell \u001b[1;32mIn[140], line 38\u001b[0m\n\u001b[0;32m     36\u001b[0m df_incidents_tmp\u001b[38;5;241m.\u001b[39mdrop(\u001b[38;5;124m'\u001b[39m\u001b[38;5;124mdone_date\u001b[39m\u001b[38;5;124m'\u001b[39m, axis\u001b[38;5;241m=\u001b[39m\u001b[38;5;241m1\u001b[39m, inplace\u001b[38;5;241m=\u001b[39m\u001b[38;5;28;01mTrue\u001b[39;00m)\n\u001b[0;32m     37\u001b[0m df_incidents_tmp\u001b[38;5;241m.\u001b[39mdrop(\u001b[38;5;124m'\u001b[39m\u001b[38;5;124mdistrict\u001b[39m\u001b[38;5;124m'\u001b[39m, axis\u001b[38;5;241m=\u001b[39m\u001b[38;5;241m1\u001b[39m, inplace\u001b[38;5;241m=\u001b[39m\u001b[38;5;28;01mTrue\u001b[39;00m)\n\u001b[1;32m---> 38\u001b[0m \u001b[43mdf_incidents_tmp\u001b[49m\u001b[38;5;241;43m.\u001b[39;49m\u001b[43mdrop\u001b[49m\u001b[43m(\u001b[49m\u001b[38;5;124;43m'\u001b[39;49m\u001b[38;5;124;43mLOGIN\u001b[39;49m\u001b[38;5;124;43m'\u001b[39;49m\u001b[43m,\u001b[49m\u001b[43m \u001b[49m\u001b[43maxis\u001b[49m\u001b[38;5;241;43m=\u001b[39;49m\u001b[38;5;241;43m1\u001b[39;49m\u001b[43m,\u001b[49m\u001b[43m \u001b[49m\u001b[43minplace\u001b[49m\u001b[38;5;241;43m=\u001b[39;49m\u001b[38;5;28;43;01mTrue\u001b[39;49;00m\u001b[43m)\u001b[49m\n",
      "File \u001b[1;32mD:\\Projects\\lct2023\\venv\\lib\\site-packages\\pandas\\core\\frame.py:5268\u001b[0m, in \u001b[0;36mDataFrame.drop\u001b[1;34m(self, labels, axis, index, columns, level, inplace, errors)\u001b[0m\n\u001b[0;32m   5120\u001b[0m \u001b[38;5;28;01mdef\u001b[39;00m \u001b[38;5;21mdrop\u001b[39m(\n\u001b[0;32m   5121\u001b[0m     \u001b[38;5;28mself\u001b[39m,\n\u001b[0;32m   5122\u001b[0m     labels: IndexLabel \u001b[38;5;241m=\u001b[39m \u001b[38;5;28;01mNone\u001b[39;00m,\n\u001b[1;32m   (...)\u001b[0m\n\u001b[0;32m   5129\u001b[0m     errors: IgnoreRaise \u001b[38;5;241m=\u001b[39m \u001b[38;5;124m\"\u001b[39m\u001b[38;5;124mraise\u001b[39m\u001b[38;5;124m\"\u001b[39m,\n\u001b[0;32m   5130\u001b[0m ) \u001b[38;5;241m-\u001b[39m\u001b[38;5;241m>\u001b[39m DataFrame \u001b[38;5;241m|\u001b[39m \u001b[38;5;28;01mNone\u001b[39;00m:\n\u001b[0;32m   5131\u001b[0m \u001b[38;5;250m    \u001b[39m\u001b[38;5;124;03m\"\"\"\u001b[39;00m\n\u001b[0;32m   5132\u001b[0m \u001b[38;5;124;03m    Drop specified labels from rows or columns.\u001b[39;00m\n\u001b[0;32m   5133\u001b[0m \n\u001b[1;32m   (...)\u001b[0m\n\u001b[0;32m   5266\u001b[0m \u001b[38;5;124;03m            weight  1.0     0.8\u001b[39;00m\n\u001b[0;32m   5267\u001b[0m \u001b[38;5;124;03m    \"\"\"\u001b[39;00m\n\u001b[1;32m-> 5268\u001b[0m     \u001b[38;5;28;01mreturn\u001b[39;00m \u001b[38;5;28;43msuper\u001b[39;49m\u001b[43m(\u001b[49m\u001b[43m)\u001b[49m\u001b[38;5;241;43m.\u001b[39;49m\u001b[43mdrop\u001b[49m\u001b[43m(\u001b[49m\n\u001b[0;32m   5269\u001b[0m \u001b[43m        \u001b[49m\u001b[43mlabels\u001b[49m\u001b[38;5;241;43m=\u001b[39;49m\u001b[43mlabels\u001b[49m\u001b[43m,\u001b[49m\n\u001b[0;32m   5270\u001b[0m \u001b[43m        \u001b[49m\u001b[43maxis\u001b[49m\u001b[38;5;241;43m=\u001b[39;49m\u001b[43maxis\u001b[49m\u001b[43m,\u001b[49m\n\u001b[0;32m   5271\u001b[0m \u001b[43m        \u001b[49m\u001b[43mindex\u001b[49m\u001b[38;5;241;43m=\u001b[39;49m\u001b[43mindex\u001b[49m\u001b[43m,\u001b[49m\n\u001b[0;32m   5272\u001b[0m \u001b[43m        \u001b[49m\u001b[43mcolumns\u001b[49m\u001b[38;5;241;43m=\u001b[39;49m\u001b[43mcolumns\u001b[49m\u001b[43m,\u001b[49m\n\u001b[0;32m   5273\u001b[0m \u001b[43m        \u001b[49m\u001b[43mlevel\u001b[49m\u001b[38;5;241;43m=\u001b[39;49m\u001b[43mlevel\u001b[49m\u001b[43m,\u001b[49m\n\u001b[0;32m   5274\u001b[0m \u001b[43m        \u001b[49m\u001b[43minplace\u001b[49m\u001b[38;5;241;43m=\u001b[39;49m\u001b[43minplace\u001b[49m\u001b[43m,\u001b[49m\n\u001b[0;32m   5275\u001b[0m \u001b[43m        \u001b[49m\u001b[43merrors\u001b[49m\u001b[38;5;241;43m=\u001b[39;49m\u001b[43merrors\u001b[49m\u001b[43m,\u001b[49m\n\u001b[0;32m   5276\u001b[0m \u001b[43m    \u001b[49m\u001b[43m)\u001b[49m\n",
      "File \u001b[1;32mD:\\Projects\\lct2023\\venv\\lib\\site-packages\\pandas\\core\\generic.py:4549\u001b[0m, in \u001b[0;36mNDFrame.drop\u001b[1;34m(self, labels, axis, index, columns, level, inplace, errors)\u001b[0m\n\u001b[0;32m   4547\u001b[0m \u001b[38;5;28;01mfor\u001b[39;00m axis, labels \u001b[38;5;129;01min\u001b[39;00m axes\u001b[38;5;241m.\u001b[39mitems():\n\u001b[0;32m   4548\u001b[0m     \u001b[38;5;28;01mif\u001b[39;00m labels \u001b[38;5;129;01mis\u001b[39;00m \u001b[38;5;129;01mnot\u001b[39;00m \u001b[38;5;28;01mNone\u001b[39;00m:\n\u001b[1;32m-> 4549\u001b[0m         obj \u001b[38;5;241m=\u001b[39m \u001b[43mobj\u001b[49m\u001b[38;5;241;43m.\u001b[39;49m\u001b[43m_drop_axis\u001b[49m\u001b[43m(\u001b[49m\u001b[43mlabels\u001b[49m\u001b[43m,\u001b[49m\u001b[43m \u001b[49m\u001b[43maxis\u001b[49m\u001b[43m,\u001b[49m\u001b[43m \u001b[49m\u001b[43mlevel\u001b[49m\u001b[38;5;241;43m=\u001b[39;49m\u001b[43mlevel\u001b[49m\u001b[43m,\u001b[49m\u001b[43m \u001b[49m\u001b[43merrors\u001b[49m\u001b[38;5;241;43m=\u001b[39;49m\u001b[43merrors\u001b[49m\u001b[43m)\u001b[49m\n\u001b[0;32m   4551\u001b[0m \u001b[38;5;28;01mif\u001b[39;00m inplace:\n\u001b[0;32m   4552\u001b[0m     \u001b[38;5;28mself\u001b[39m\u001b[38;5;241m.\u001b[39m_update_inplace(obj)\n",
      "File \u001b[1;32mD:\\Projects\\lct2023\\venv\\lib\\site-packages\\pandas\\core\\generic.py:4591\u001b[0m, in \u001b[0;36mNDFrame._drop_axis\u001b[1;34m(self, labels, axis, level, errors, only_slice)\u001b[0m\n\u001b[0;32m   4589\u001b[0m         new_axis \u001b[38;5;241m=\u001b[39m axis\u001b[38;5;241m.\u001b[39mdrop(labels, level\u001b[38;5;241m=\u001b[39mlevel, errors\u001b[38;5;241m=\u001b[39merrors)\n\u001b[0;32m   4590\u001b[0m     \u001b[38;5;28;01melse\u001b[39;00m:\n\u001b[1;32m-> 4591\u001b[0m         new_axis \u001b[38;5;241m=\u001b[39m \u001b[43maxis\u001b[49m\u001b[38;5;241;43m.\u001b[39;49m\u001b[43mdrop\u001b[49m\u001b[43m(\u001b[49m\u001b[43mlabels\u001b[49m\u001b[43m,\u001b[49m\u001b[43m \u001b[49m\u001b[43merrors\u001b[49m\u001b[38;5;241;43m=\u001b[39;49m\u001b[43merrors\u001b[49m\u001b[43m)\u001b[49m\n\u001b[0;32m   4592\u001b[0m     indexer \u001b[38;5;241m=\u001b[39m axis\u001b[38;5;241m.\u001b[39mget_indexer(new_axis)\n\u001b[0;32m   4594\u001b[0m \u001b[38;5;66;03m# Case for non-unique axis\u001b[39;00m\n\u001b[0;32m   4595\u001b[0m \u001b[38;5;28;01melse\u001b[39;00m:\n",
      "File \u001b[1;32mD:\\Projects\\lct2023\\venv\\lib\\site-packages\\pandas\\core\\indexes\\base.py:6696\u001b[0m, in \u001b[0;36mIndex.drop\u001b[1;34m(self, labels, errors)\u001b[0m\n\u001b[0;32m   6694\u001b[0m \u001b[38;5;28;01mif\u001b[39;00m mask\u001b[38;5;241m.\u001b[39many():\n\u001b[0;32m   6695\u001b[0m     \u001b[38;5;28;01mif\u001b[39;00m errors \u001b[38;5;241m!=\u001b[39m \u001b[38;5;124m\"\u001b[39m\u001b[38;5;124mignore\u001b[39m\u001b[38;5;124m\"\u001b[39m:\n\u001b[1;32m-> 6696\u001b[0m         \u001b[38;5;28;01mraise\u001b[39;00m \u001b[38;5;167;01mKeyError\u001b[39;00m(\u001b[38;5;124mf\u001b[39m\u001b[38;5;124m\"\u001b[39m\u001b[38;5;132;01m{\u001b[39;00m\u001b[38;5;28mlist\u001b[39m(labels[mask])\u001b[38;5;132;01m}\u001b[39;00m\u001b[38;5;124m not found in axis\u001b[39m\u001b[38;5;124m\"\u001b[39m)\n\u001b[0;32m   6697\u001b[0m     indexer \u001b[38;5;241m=\u001b[39m indexer[\u001b[38;5;241m~\u001b[39mmask]\n\u001b[0;32m   6698\u001b[0m \u001b[38;5;28;01mreturn\u001b[39;00m \u001b[38;5;28mself\u001b[39m\u001b[38;5;241m.\u001b[39mdelete(indexer)\n",
      "\u001b[1;31mKeyError\u001b[0m: \"['LOGIN'] not found in axis\""
     ]
    }
   ],
   "source": [
    "names = {\n",
    "            'Наименование': 'incident_name', # Наименование\n",
    "            'Источник': 'source', # Источник\n",
    "            'Дата создания во внешней системе': 'external_create_date', # Дата создания во внешней системе\n",
    "            'Дата закрытия': 'close_date', # Дата закрытия\n",
    "            'Адрес': 'address', # Адрес\n",
    "            'Округ': 'district', # Округ\n",
    "            'Дата и время завершения события во': 'done_date', # Дата и время завершения события во\n",
    "         }\n",
    "\n",
    "# rename column names\n",
    "df_incidents_tmp = df_incidents_tmp.rename(columns=names)\n",
    "\n",
    "# sluglify names of incidents, addresses and districts\n",
    "df_incidents_tmp['incident_name'] = df_incidents_tmp['incident_name'].apply(slug_me)\n",
    "df_incidents_tmp['address'] = df_incidents_tmp['address'].apply(slug_me)\n",
    "df_incidents_tmp['district'] = df_incidents_tmp['district'].apply(slug_me)\n",
    "\n",
    "# prepare date format\n",
    "df_incidents_tmp['external_create_date'] = pd.to_datetime(df_incidents_tmp['external_create_date'], errors='coerce')\n",
    "df_incidents_tmp['external_create_date_year'] = df_incidents_tmp['external_create_date'].dt.year\n",
    "df_incidents_tmp['external_create_date_month'] = df_incidents_tmp['external_create_date'].dt.month\n",
    "df_incidents_tmp['external_create_date_day'] = df_incidents_tmp['external_create_date'].dt.day\n",
    "df_incidents_tmp['done_date'] = pd.to_datetime(df_incidents_tmp['done_date'], errors='coerce')\n",
    "df_incidents_tmp['done_date_year'] = df_incidents_tmp['done_date'].dt.year\n",
    "df_incidents_tmp['done_date_month'] = df_incidents_tmp['done_date'].dt.month\n",
    "df_incidents_tmp['done_date_day'] = df_incidents_tmp['done_date'].dt.day\n",
    "df_incidents_tmp['close_date'] = pd.to_datetime(df_incidents_tmp['close_date'], errors='coerce')\n",
    "df_incidents_tmp['close_date_year'] = df_incidents_tmp['close_date'].dt.year\n",
    "df_incidents_tmp['close_date_month'] = df_incidents_tmp['close_date'].dt.month\n",
    "df_incidents_tmp['close_date_day'] = df_incidents_tmp['close_date'].dt.day\n",
    "\n",
    "# remove unnecsessary\n",
    "df_incidents_tmp.drop('external_create_date', axis=1, inplace=True)\n",
    "df_incidents_tmp.drop('close_date', axis=1, inplace=True)\n",
    "df_incidents_tmp.drop('done_date', axis=1, inplace=True)\n",
    "df_incidents_tmp.drop('district', axis=1, inplace=True)"
   ]
  },
  {
   "cell_type": "code",
   "execution_count": 141,
   "metadata": {
    "ExecuteTime": {
     "end_time": "2023-05-21T10:43:15.461945Z",
     "start_time": "2023-05-21T10:43:14.617205Z"
    },
    "scrolled": true
   },
   "outputs": [
    {
     "data": {
      "text/html": [
       "<div>\n",
       "<style scoped>\n",
       "    .dataframe tbody tr th:only-of-type {\n",
       "        vertical-align: middle;\n",
       "    }\n",
       "\n",
       "    .dataframe tbody tr th {\n",
       "        vertical-align: top;\n",
       "    }\n",
       "\n",
       "    .dataframe thead th {\n",
       "        text-align: right;\n",
       "    }\n",
       "</style>\n",
       "<table border=\"1\" class=\"dataframe\">\n",
       "  <thead>\n",
       "    <tr style=\"text-align: right;\">\n",
       "      <th></th>\n",
       "      <th>incident_name</th>\n",
       "      <th>source</th>\n",
       "      <th>address</th>\n",
       "      <th>unom</th>\n",
       "      <th>external_create_date_year</th>\n",
       "      <th>external_create_date_month</th>\n",
       "      <th>external_create_date_day</th>\n",
       "      <th>done_date_year</th>\n",
       "      <th>done_date_month</th>\n",
       "      <th>done_date_day</th>\n",
       "      <th>close_date_year</th>\n",
       "      <th>close_date_month</th>\n",
       "      <th>close_date_day</th>\n",
       "    </tr>\n",
       "  </thead>\n",
       "  <tbody>\n",
       "    <tr>\n",
       "      <th>0</th>\n",
       "      <td>otkryt_kolodets</td>\n",
       "      <td>MVK</td>\n",
       "      <td>malaia_semionovskaia_13</td>\n",
       "      <td>2115191</td>\n",
       "      <td>2022</td>\n",
       "      <td>8</td>\n",
       "      <td>30</td>\n",
       "      <td>1970</td>\n",
       "      <td>1</td>\n",
       "      <td>1</td>\n",
       "      <td>2022.0</td>\n",
       "      <td>8.0</td>\n",
       "      <td>30.0</td>\n",
       "    </tr>\n",
       "    <tr>\n",
       "      <th>1</th>\n",
       "      <td>otklonenie_gvs_nizhe_normy_nochiu_monitoring</td>\n",
       "      <td>ASUPR</td>\n",
       "      <td>dmitrievskogo_5</td>\n",
       "      <td>2404461</td>\n",
       "      <td>2022</td>\n",
       "      <td>2</td>\n",
       "      <td>20</td>\n",
       "      <td>1970</td>\n",
       "      <td>1</td>\n",
       "      <td>1</td>\n",
       "      <td>2022.0</td>\n",
       "      <td>4.0</td>\n",
       "      <td>4.0</td>\n",
       "    </tr>\n",
       "    <tr>\n",
       "      <th>2</th>\n",
       "      <td>otklonenie_gvs_nizhe_normy_dnem_monitoring</td>\n",
       "      <td>ASUPR</td>\n",
       "      <td>dmitrievskogo_5</td>\n",
       "      <td>2404461</td>\n",
       "      <td>2022</td>\n",
       "      <td>3</td>\n",
       "      <td>7</td>\n",
       "      <td>1970</td>\n",
       "      <td>1</td>\n",
       "      <td>1</td>\n",
       "      <td>2022.0</td>\n",
       "      <td>3.0</td>\n",
       "      <td>9.0</td>\n",
       "    </tr>\n",
       "    <tr>\n",
       "      <th>3</th>\n",
       "      <td>temperatura_gvs_nizhe_normy</td>\n",
       "      <td>ASUPR</td>\n",
       "      <td>dmitrievskogo_5</td>\n",
       "      <td>2404461</td>\n",
       "      <td>2022</td>\n",
       "      <td>3</td>\n",
       "      <td>5</td>\n",
       "      <td>1970</td>\n",
       "      <td>1</td>\n",
       "      <td>1</td>\n",
       "      <td>2022.0</td>\n",
       "      <td>3.0</td>\n",
       "      <td>5.0</td>\n",
       "    </tr>\n",
       "    <tr>\n",
       "      <th>4</th>\n",
       "      <td>temperatura_gvs_nizhe_normy</td>\n",
       "      <td>ASUPR</td>\n",
       "      <td>dmitrievskogo_5</td>\n",
       "      <td>2404461</td>\n",
       "      <td>2022</td>\n",
       "      <td>2</td>\n",
       "      <td>18</td>\n",
       "      <td>1970</td>\n",
       "      <td>1</td>\n",
       "      <td>1</td>\n",
       "      <td>2022.0</td>\n",
       "      <td>2.0</td>\n",
       "      <td>18.0</td>\n",
       "    </tr>\n",
       "  </tbody>\n",
       "</table>\n",
       "</div>"
      ],
      "text/plain": [
       "                                  incident_name source   \n",
       "0                               otkryt_kolodets    MVK  \\\n",
       "1  otklonenie_gvs_nizhe_normy_nochiu_monitoring  ASUPR   \n",
       "2    otklonenie_gvs_nizhe_normy_dnem_monitoring  ASUPR   \n",
       "3                   temperatura_gvs_nizhe_normy  ASUPR   \n",
       "4                   temperatura_gvs_nizhe_normy  ASUPR   \n",
       "\n",
       "                   address     unom  external_create_date_year   \n",
       "0  malaia_semionovskaia_13  2115191                       2022  \\\n",
       "1          dmitrievskogo_5  2404461                       2022   \n",
       "2          dmitrievskogo_5  2404461                       2022   \n",
       "3          dmitrievskogo_5  2404461                       2022   \n",
       "4          dmitrievskogo_5  2404461                       2022   \n",
       "\n",
       "   external_create_date_month  external_create_date_day  done_date_year   \n",
       "0                           8                        30            1970  \\\n",
       "1                           2                        20            1970   \n",
       "2                           3                         7            1970   \n",
       "3                           3                         5            1970   \n",
       "4                           2                        18            1970   \n",
       "\n",
       "   done_date_month  done_date_day  close_date_year  close_date_month   \n",
       "0                1              1           2022.0               8.0  \\\n",
       "1                1              1           2022.0               4.0   \n",
       "2                1              1           2022.0               3.0   \n",
       "3                1              1           2022.0               3.0   \n",
       "4                1              1           2022.0               2.0   \n",
       "\n",
       "   close_date_day  \n",
       "0            30.0  \n",
       "1             4.0  \n",
       "2             9.0  \n",
       "3             5.0  \n",
       "4            18.0  "
      ]
     },
     "execution_count": 141,
     "metadata": {},
     "output_type": "execute_result"
    }
   ],
   "source": [
    "df_incidents_tmp.head()"
   ]
  },
  {
   "cell_type": "markdown",
   "metadata": {},
   "source": [
    "## 3_Работы по капитальному ремонту, проведенные в многоквартирных домах.xlsx"
   ]
  },
  {
   "cell_type": "code",
   "execution_count": 132,
   "metadata": {},
   "outputs": [],
   "source": [
    "# prepare date format\n",
    "df_works_done_tmp['PLAN_DATE_START'] = pd.to_datetime(df_works_done_tmp['PLAN_DATE_START'], dayfirst=True)\n",
    "df_works_done_tmp['PLAN_DATE_START_year'] = df_works_done_tmp['PLAN_DATE_START'].dt.year\n",
    "df_works_done_tmp['PLAN_DATE_START_month'] = df_works_done_tmp['PLAN_DATE_START'].dt.month\n",
    "df_works_done_tmp['PLAN_DATE_START_day'] = df_works_done_tmp['PLAN_DATE_START'].dt.day\n",
    "\n",
    "df_works_done_tmp['PLAN_DATE_END'] = pd.to_datetime(df_works_done_tmp['PLAN_DATE_END'], dayfirst=True)\n",
    "df_works_done_tmp['PLAN_DATE_END_year'] = df_works_done_tmp['PLAN_DATE_END'].dt.year\n",
    "df_works_done_tmp['PLAN_DATE_END_month'] = df_works_done_tmp['PLAN_DATE_END'].dt.month\n",
    "df_works_done_tmp['PLAN_DATE_END_day'] = df_works_done_tmp['PLAN_DATE_END'].dt.day\n",
    "\n",
    "df_works_done_tmp['FACT_DATE_START'] = pd.to_datetime(df_works_done_tmp['FACT_DATE_START'], dayfirst=True)\n",
    "df_works_done_tmp['FACT_DATE_START_year'] = df_works_done_tmp['FACT_DATE_START'].dt.year\n",
    "df_works_done_tmp['FACT_DATE_START_month'] = df_works_done_tmp['FACT_DATE_START'].dt.month\n",
    "df_works_done_tmp['FACT_DATE_START_day'] = df_works_done_tmp['FACT_DATE_START'].dt.day\n",
    "\n",
    "df_works_done_tmp['FACT_DATE_END'] = pd.to_datetime(df_works_done_tmp['FACT_DATE_END'], dayfirst=True)\n",
    "df_works_done_tmp['FACT_DATE_END_year'] = df_works_done_tmp['FACT_DATE_END'].dt.year\n",
    "df_works_done_tmp['FACT_DATE_END_month'] = df_works_done_tmp['FACT_DATE_END'].dt.month\n",
    "df_works_done_tmp['FACT_DATE_END_day'] = df_works_done_tmp['FACT_DATE_END'].dt.day\n",
    "\n",
    "df_works_done_tmp['unom'] = df_works_done_tmp['UNOM']\n",
    "\n",
    "# remove unnecsessary\n",
    "df_works_done_tmp.drop('PLAN_DATE_START', axis=1, inplace=True)\n",
    "df_works_done_tmp.drop('PLAN_DATE_END', axis=1, inplace=True)\n",
    "df_works_done_tmp.drop('FACT_DATE_END', axis=1, inplace=True)\n",
    "df_works_done_tmp.drop('FACT_DATE_START', axis=1, inplace=True)\n",
    "\n",
    "# sluglify names\n",
    "df_works_done_tmp['WORK_NAME'] = df_works_done_tmp['WORK_NAME'].apply(slug_me)\n",
    "df_works_done_tmp['AdmArea'] = df_works_done_tmp['AdmArea'].apply(slug_me)\n",
    "df_works_done_tmp['District'] = df_works_done_tmp['District'].apply(slug_me)\n",
    "df_works_done_tmp['Address'] = df_works_done_tmp['Address'].apply(slug_me)"
   ]
  },
  {
   "cell_type": "code",
   "execution_count": 133,
   "metadata": {},
   "outputs": [
    {
     "data": {
      "text/html": [
       "<div>\n",
       "<style scoped>\n",
       "    .dataframe tbody tr th:only-of-type {\n",
       "        vertical-align: middle;\n",
       "    }\n",
       "\n",
       "    .dataframe tbody tr th {\n",
       "        vertical-align: top;\n",
       "    }\n",
       "\n",
       "    .dataframe thead th {\n",
       "        text-align: right;\n",
       "    }\n",
       "</style>\n",
       "<table border=\"1\" class=\"dataframe\">\n",
       "  <thead>\n",
       "    <tr style=\"text-align: right;\">\n",
       "      <th></th>\n",
       "      <th>global_id</th>\n",
       "      <th>PERIOD</th>\n",
       "      <th>WORK_NAME</th>\n",
       "      <th>NUM_ENTRANCE</th>\n",
       "      <th>ElevatorNumber</th>\n",
       "      <th>AdmArea</th>\n",
       "      <th>District</th>\n",
       "      <th>Address</th>\n",
       "      <th>UNOM</th>\n",
       "      <th>PLAN_DATE_START_year</th>\n",
       "      <th>...</th>\n",
       "      <th>PLAN_DATE_END_year</th>\n",
       "      <th>PLAN_DATE_END_month</th>\n",
       "      <th>PLAN_DATE_END_day</th>\n",
       "      <th>FACT_DATE_START_year</th>\n",
       "      <th>FACT_DATE_START_month</th>\n",
       "      <th>FACT_DATE_START_day</th>\n",
       "      <th>FACT_DATE_END_year</th>\n",
       "      <th>FACT_DATE_END_month</th>\n",
       "      <th>FACT_DATE_END_day</th>\n",
       "      <th>unom</th>\n",
       "    </tr>\n",
       "  </thead>\n",
       "  <tbody>\n",
       "    <tr>\n",
       "      <th>0</th>\n",
       "      <td>351060</td>\n",
       "      <td>2022</td>\n",
       "      <td>zamena_liftovogo_oborudovaniia</td>\n",
       "      <td>1.0</td>\n",
       "      <td>1</td>\n",
       "      <td>vostochnyi_administrativnyi_okrug</td>\n",
       "      <td>bogorodskoe</td>\n",
       "      <td>ivanteevskaia_1</td>\n",
       "      <td>20151</td>\n",
       "      <td>2022</td>\n",
       "      <td>...</td>\n",
       "      <td>2022</td>\n",
       "      <td>8</td>\n",
       "      <td>28</td>\n",
       "      <td>2022</td>\n",
       "      <td>6</td>\n",
       "      <td>27</td>\n",
       "      <td>2022</td>\n",
       "      <td>10</td>\n",
       "      <td>14</td>\n",
       "      <td>20151</td>\n",
       "    </tr>\n",
       "    <tr>\n",
       "      <th>1</th>\n",
       "      <td>430496</td>\n",
       "      <td>2022</td>\n",
       "      <td>zamena_liftovogo_oborudovaniia</td>\n",
       "      <td>1.0</td>\n",
       "      <td>1</td>\n",
       "      <td>vostochnyi_administrativnyi_okrug</td>\n",
       "      <td>bogorodskoe</td>\n",
       "      <td>ivanteevskaia_1</td>\n",
       "      <td>20151</td>\n",
       "      <td>2022</td>\n",
       "      <td>...</td>\n",
       "      <td>2022</td>\n",
       "      <td>10</td>\n",
       "      <td>14</td>\n",
       "      <td>2022</td>\n",
       "      <td>9</td>\n",
       "      <td>30</td>\n",
       "      <td>2022</td>\n",
       "      <td>10</td>\n",
       "      <td>21</td>\n",
       "      <td>20151</td>\n",
       "    </tr>\n",
       "    <tr>\n",
       "      <th>2</th>\n",
       "      <td>348580</td>\n",
       "      <td>2022</td>\n",
       "      <td>remont_vnutridomovykh_inzhenernykh_sistem_vodo...</td>\n",
       "      <td>0.0</td>\n",
       "      <td>0</td>\n",
       "      <td>vostochnyi_administrativnyi_okrug</td>\n",
       "      <td>bogorodskoe</td>\n",
       "      <td>krasnobogatyrskaia_21</td>\n",
       "      <td>11466</td>\n",
       "      <td>2022</td>\n",
       "      <td>...</td>\n",
       "      <td>2022</td>\n",
       "      <td>6</td>\n",
       "      <td>20</td>\n",
       "      <td>2022</td>\n",
       "      <td>2</td>\n",
       "      <td>1</td>\n",
       "      <td>2022</td>\n",
       "      <td>5</td>\n",
       "      <td>25</td>\n",
       "      <td>11466</td>\n",
       "    </tr>\n",
       "    <tr>\n",
       "      <th>3</th>\n",
       "      <td>348581</td>\n",
       "      <td>2022</td>\n",
       "      <td>remont_vnutridomovykh_inzhenernykh_sistem_tepl...</td>\n",
       "      <td>0.0</td>\n",
       "      <td>0</td>\n",
       "      <td>vostochnyi_administrativnyi_okrug</td>\n",
       "      <td>bogorodskoe</td>\n",
       "      <td>krasnobogatyrskaia_21</td>\n",
       "      <td>11466</td>\n",
       "      <td>2022</td>\n",
       "      <td>...</td>\n",
       "      <td>2022</td>\n",
       "      <td>7</td>\n",
       "      <td>10</td>\n",
       "      <td>2022</td>\n",
       "      <td>5</td>\n",
       "      <td>7</td>\n",
       "      <td>2022</td>\n",
       "      <td>8</td>\n",
       "      <td>3</td>\n",
       "      <td>11466</td>\n",
       "    </tr>\n",
       "    <tr>\n",
       "      <th>4</th>\n",
       "      <td>348578</td>\n",
       "      <td>2022</td>\n",
       "      <td>remont_vnutridomovykh_inzhenernykh_sistem_khol...</td>\n",
       "      <td>0.0</td>\n",
       "      <td>0</td>\n",
       "      <td>vostochnyi_administrativnyi_okrug</td>\n",
       "      <td>bogorodskoe</td>\n",
       "      <td>krasnobogatyrskaia_21</td>\n",
       "      <td>11466</td>\n",
       "      <td>2022</td>\n",
       "      <td>...</td>\n",
       "      <td>2022</td>\n",
       "      <td>6</td>\n",
       "      <td>20</td>\n",
       "      <td>2022</td>\n",
       "      <td>2</td>\n",
       "      <td>1</td>\n",
       "      <td>2022</td>\n",
       "      <td>6</td>\n",
       "      <td>27</td>\n",
       "      <td>11466</td>\n",
       "    </tr>\n",
       "    <tr>\n",
       "      <th>...</th>\n",
       "      <td>...</td>\n",
       "      <td>...</td>\n",
       "      <td>...</td>\n",
       "      <td>...</td>\n",
       "      <td>...</td>\n",
       "      <td>...</td>\n",
       "      <td>...</td>\n",
       "      <td>...</td>\n",
       "      <td>...</td>\n",
       "      <td>...</td>\n",
       "      <td>...</td>\n",
       "      <td>...</td>\n",
       "      <td>...</td>\n",
       "      <td>...</td>\n",
       "      <td>...</td>\n",
       "      <td>...</td>\n",
       "      <td>...</td>\n",
       "      <td>...</td>\n",
       "      <td>...</td>\n",
       "      <td>...</td>\n",
       "      <td>...</td>\n",
       "    </tr>\n",
       "    <tr>\n",
       "      <th>1742</th>\n",
       "      <td>366525</td>\n",
       "      <td>2022</td>\n",
       "      <td>remont_vnutridomovykh_inzhenernykh_sistem_tepl...</td>\n",
       "      <td>0.0</td>\n",
       "      <td>0</td>\n",
       "      <td>vostochnyi_administrativnyi_okrug</td>\n",
       "      <td>golianovo</td>\n",
       "      <td>kamchatskaia_4</td>\n",
       "      <td>9177</td>\n",
       "      <td>2022</td>\n",
       "      <td>...</td>\n",
       "      <td>2022</td>\n",
       "      <td>7</td>\n",
       "      <td>10</td>\n",
       "      <td>2022</td>\n",
       "      <td>3</td>\n",
       "      <td>7</td>\n",
       "      <td>2022</td>\n",
       "      <td>8</td>\n",
       "      <td>11</td>\n",
       "      <td>9177</td>\n",
       "    </tr>\n",
       "    <tr>\n",
       "      <th>1743</th>\n",
       "      <td>366526</td>\n",
       "      <td>2022</td>\n",
       "      <td>remont_podvalnykh_pomeshchenii_otnosiashchikhs...</td>\n",
       "      <td>0.0</td>\n",
       "      <td>0</td>\n",
       "      <td>vostochnyi_administrativnyi_okrug</td>\n",
       "      <td>golianovo</td>\n",
       "      <td>kamchatskaia_4</td>\n",
       "      <td>9177</td>\n",
       "      <td>2022</td>\n",
       "      <td>...</td>\n",
       "      <td>2022</td>\n",
       "      <td>9</td>\n",
       "      <td>30</td>\n",
       "      <td>2022</td>\n",
       "      <td>2</td>\n",
       "      <td>4</td>\n",
       "      <td>2022</td>\n",
       "      <td>6</td>\n",
       "      <td>17</td>\n",
       "      <td>9177</td>\n",
       "    </tr>\n",
       "    <tr>\n",
       "      <th>1744</th>\n",
       "      <td>366523</td>\n",
       "      <td>2022</td>\n",
       "      <td>remont_vnutridomovykh_inzhenernykh_sistem_vodo...</td>\n",
       "      <td>0.0</td>\n",
       "      <td>0</td>\n",
       "      <td>vostochnyi_administrativnyi_okrug</td>\n",
       "      <td>golianovo</td>\n",
       "      <td>kamchatskaia_4</td>\n",
       "      <td>9177</td>\n",
       "      <td>2022</td>\n",
       "      <td>...</td>\n",
       "      <td>2022</td>\n",
       "      <td>5</td>\n",
       "      <td>31</td>\n",
       "      <td>2022</td>\n",
       "      <td>2</td>\n",
       "      <td>4</td>\n",
       "      <td>2022</td>\n",
       "      <td>8</td>\n",
       "      <td>4</td>\n",
       "      <td>9177</td>\n",
       "    </tr>\n",
       "    <tr>\n",
       "      <th>1745</th>\n",
       "      <td>394724</td>\n",
       "      <td>2022</td>\n",
       "      <td>remont_vnutrennego_vodostoka</td>\n",
       "      <td>0.0</td>\n",
       "      <td>0</td>\n",
       "      <td>vostochnyi_administrativnyi_okrug</td>\n",
       "      <td>ivanovskoe</td>\n",
       "      <td>bolshoi_kupavenskii_proezd_10</td>\n",
       "      <td>12178</td>\n",
       "      <td>2022</td>\n",
       "      <td>...</td>\n",
       "      <td>2022</td>\n",
       "      <td>12</td>\n",
       "      <td>31</td>\n",
       "      <td>2022</td>\n",
       "      <td>10</td>\n",
       "      <td>10</td>\n",
       "      <td>2022</td>\n",
       "      <td>11</td>\n",
       "      <td>30</td>\n",
       "      <td>12178</td>\n",
       "    </tr>\n",
       "    <tr>\n",
       "      <th>1746</th>\n",
       "      <td>394730</td>\n",
       "      <td>2022</td>\n",
       "      <td>remont_vnutrennego_vodostoka</td>\n",
       "      <td>0.0</td>\n",
       "      <td>0</td>\n",
       "      <td>vostochnyi_administrativnyi_okrug</td>\n",
       "      <td>ivanovskoe</td>\n",
       "      <td>bolshoi_kupavenskii_proezd_2</td>\n",
       "      <td>12174</td>\n",
       "      <td>2022</td>\n",
       "      <td>...</td>\n",
       "      <td>2022</td>\n",
       "      <td>12</td>\n",
       "      <td>31</td>\n",
       "      <td>2022</td>\n",
       "      <td>10</td>\n",
       "      <td>10</td>\n",
       "      <td>2022</td>\n",
       "      <td>11</td>\n",
       "      <td>30</td>\n",
       "      <td>12174</td>\n",
       "    </tr>\n",
       "  </tbody>\n",
       "</table>\n",
       "<p>1747 rows × 22 columns</p>\n",
       "</div>"
      ],
      "text/plain": [
       "      global_id  PERIOD                                          WORK_NAME   \n",
       "0        351060    2022                     zamena_liftovogo_oborudovaniia  \\\n",
       "1        430496    2022                     zamena_liftovogo_oborudovaniia   \n",
       "2        348580    2022  remont_vnutridomovykh_inzhenernykh_sistem_vodo...   \n",
       "3        348581    2022  remont_vnutridomovykh_inzhenernykh_sistem_tepl...   \n",
       "4        348578    2022  remont_vnutridomovykh_inzhenernykh_sistem_khol...   \n",
       "...         ...     ...                                                ...   \n",
       "1742     366525    2022  remont_vnutridomovykh_inzhenernykh_sistem_tepl...   \n",
       "1743     366526    2022  remont_podvalnykh_pomeshchenii_otnosiashchikhs...   \n",
       "1744     366523    2022  remont_vnutridomovykh_inzhenernykh_sistem_vodo...   \n",
       "1745     394724    2022                       remont_vnutrennego_vodostoka   \n",
       "1746     394730    2022                       remont_vnutrennego_vodostoka   \n",
       "\n",
       "      NUM_ENTRANCE ElevatorNumber                            AdmArea   \n",
       "0              1.0              1  vostochnyi_administrativnyi_okrug  \\\n",
       "1              1.0              1  vostochnyi_administrativnyi_okrug   \n",
       "2              0.0              0  vostochnyi_administrativnyi_okrug   \n",
       "3              0.0              0  vostochnyi_administrativnyi_okrug   \n",
       "4              0.0              0  vostochnyi_administrativnyi_okrug   \n",
       "...            ...            ...                                ...   \n",
       "1742           0.0              0  vostochnyi_administrativnyi_okrug   \n",
       "1743           0.0              0  vostochnyi_administrativnyi_okrug   \n",
       "1744           0.0              0  vostochnyi_administrativnyi_okrug   \n",
       "1745           0.0              0  vostochnyi_administrativnyi_okrug   \n",
       "1746           0.0              0  vostochnyi_administrativnyi_okrug   \n",
       "\n",
       "         District                        Address   UNOM  PLAN_DATE_START_year   \n",
       "0     bogorodskoe                ivanteevskaia_1  20151                  2022  \\\n",
       "1     bogorodskoe                ivanteevskaia_1  20151                  2022   \n",
       "2     bogorodskoe          krasnobogatyrskaia_21  11466                  2022   \n",
       "3     bogorodskoe          krasnobogatyrskaia_21  11466                  2022   \n",
       "4     bogorodskoe          krasnobogatyrskaia_21  11466                  2022   \n",
       "...           ...                            ...    ...                   ...   \n",
       "1742    golianovo                 kamchatskaia_4   9177                  2022   \n",
       "1743    golianovo                 kamchatskaia_4   9177                  2022   \n",
       "1744    golianovo                 kamchatskaia_4   9177                  2022   \n",
       "1745   ivanovskoe  bolshoi_kupavenskii_proezd_10  12178                  2022   \n",
       "1746   ivanovskoe   bolshoi_kupavenskii_proezd_2  12174                  2022   \n",
       "\n",
       "      ...  PLAN_DATE_END_year  PLAN_DATE_END_month  PLAN_DATE_END_day   \n",
       "0     ...                2022                    8                 28  \\\n",
       "1     ...                2022                   10                 14   \n",
       "2     ...                2022                    6                 20   \n",
       "3     ...                2022                    7                 10   \n",
       "4     ...                2022                    6                 20   \n",
       "...   ...                 ...                  ...                ...   \n",
       "1742  ...                2022                    7                 10   \n",
       "1743  ...                2022                    9                 30   \n",
       "1744  ...                2022                    5                 31   \n",
       "1745  ...                2022                   12                 31   \n",
       "1746  ...                2022                   12                 31   \n",
       "\n",
       "      FACT_DATE_START_year  FACT_DATE_START_month  FACT_DATE_START_day   \n",
       "0                     2022                      6                   27  \\\n",
       "1                     2022                      9                   30   \n",
       "2                     2022                      2                    1   \n",
       "3                     2022                      5                    7   \n",
       "4                     2022                      2                    1   \n",
       "...                    ...                    ...                  ...   \n",
       "1742                  2022                      3                    7   \n",
       "1743                  2022                      2                    4   \n",
       "1744                  2022                      2                    4   \n",
       "1745                  2022                     10                   10   \n",
       "1746                  2022                     10                   10   \n",
       "\n",
       "      FACT_DATE_END_year  FACT_DATE_END_month  FACT_DATE_END_day   unom  \n",
       "0                   2022                   10                 14  20151  \n",
       "1                   2022                   10                 21  20151  \n",
       "2                   2022                    5                 25  11466  \n",
       "3                   2022                    8                  3  11466  \n",
       "4                   2022                    6                 27  11466  \n",
       "...                  ...                  ...                ...    ...  \n",
       "1742                2022                    8                 11   9177  \n",
       "1743                2022                    6                 17   9177  \n",
       "1744                2022                    8                  4   9177  \n",
       "1745                2022                   11                 30  12178  \n",
       "1746                2022                   11                 30  12174  \n",
       "\n",
       "[1747 rows x 22 columns]"
      ]
     },
     "execution_count": 133,
     "metadata": {},
     "output_type": "execute_result"
    }
   ],
   "source": [
    "df_works_done_tmp"
   ]
  },
  {
   "cell_type": "markdown",
   "metadata": {},
   "source": [
    "## 4_Виды работ по капитальному ремонту многоквартирных домов.xlsx"
   ]
  },
  {
   "cell_type": "code",
   "execution_count": 35,
   "metadata": {},
   "outputs": [],
   "source": [
    "df_work_types_by_cap_tmp = df_work_types_by_cap_tmp.iloc[1:] # to remove russian captions from ds\n",
    "\n",
    "names = {\n",
    "            df_work_types_by_cap_tmp.columns[0]: 'index', # №\\nп/п\n",
    "            df_work_types_by_cap_tmp.columns[1]: 'code', # Код\n",
    "            df_work_types_by_cap_tmp.columns[2]: 'work_name', # Наименование \t\n",
    "            df_work_types_by_cap_tmp.columns[3]: 'owner_name', # Наименование объекта общего имущества\n",
    "            df_work_types_by_cap_tmp.columns[4]: 'work_type', # Тип работ\n",
    "            df_work_types_by_cap_tmp.columns[5]: 'work_group', # Группа работ\n",
    "            df_work_types_by_cap_tmp.columns[6]: 'slug_work', # Сокращенное наименование работы\n",
    "         }\n",
    "\n",
    "# rename column names\n",
    "df_work_types_by_cap_tmp = df_work_types_by_cap_tmp.rename(columns=names)\n",
    "df_work_types_by_cap_tmp['work_name'] = df_work_types_by_cap_tmp['work_name'].apply(slug_me)\n",
    "df_work_types_by_cap_tmp['owner_name'] = df_work_types_by_cap_tmp['owner_name'].apply(slug_me)\n",
    "df_work_types_by_cap_tmp['work_type'] = df_work_types_by_cap_tmp['work_type'].apply(slug_me)\n",
    "df_work_types_by_cap_tmp['work_group'] = df_work_types_by_cap_tmp['work_group'].apply(slug_me)\n",
    "df_work_types_by_cap_tmp['slug_work'] = df_work_types_by_cap_tmp['slug_work'].apply(slug_me)"
   ]
  },
  {
   "cell_type": "code",
   "execution_count": null,
   "metadata": {},
   "outputs": [],
   "source": [
    "df_work_types_by_cap_tmp"
   ]
  },
  {
   "cell_type": "markdown",
   "metadata": {},
   "source": [
    "### Объединяем датасет выполненных работ с инцидентами"
   ]
  },
  {
   "cell_type": "code",
   "execution_count": 142,
   "metadata": {},
   "outputs": [],
   "source": [
    "df_merged = df_works_done_tmp.merge(df_incidents_tmp, on='unom', how='left')"
   ]
  },
  {
   "cell_type": "markdown",
   "metadata": {},
   "source": [
    "### Объединяем датасет выполненных и инцидентов с характеристиками об объектах"
   ]
  },
  {
   "cell_type": "code",
   "execution_count": 150,
   "metadata": {},
   "outputs": [],
   "source": [
    "df_merged = df_merged.merge(df_multi_houses_characts_tmp, on='unom', how='left')"
   ]
  },
  {
   "cell_type": "markdown",
   "metadata": {},
   "source": [
    "### дампим комбинированный новый (комплексный) датасет"
   ]
  },
  {
   "cell_type": "code",
   "execution_count": 153,
   "metadata": {},
   "outputs": [],
   "source": [
    "df_merged.to_csv('complex_df.csv')"
   ]
  },
  {
   "cell_type": "markdown",
   "metadata": {},
   "source": [
    "### Конвертим категоризированные данные Скейлим данные"
   ]
  },
  {
   "cell_type": "code",
   "execution_count": 154,
   "metadata": {},
   "outputs": [],
   "source": [
    "new_df_tmp = pd.get_dummies(df_merged)"
   ]
  },
  {
   "cell_type": "code",
   "execution_count": 162,
   "metadata": {},
   "outputs": [
    {
     "name": "stdout",
     "output_type": "stream",
     "text": [
      "global_id,  PERIOD,  NUM_ENTRANCE,  UNOM,  PLAN_DATE_START_year,  PLAN_DATE_START_month,  PLAN_DATE_START_day,  PLAN_DATE_END_year,  PLAN_DATE_END_month,  PLAN_DATE_END_day,  FACT_DATE_START_year,  FACT_DATE_START_month,  FACT_DATE_START_day,  FACT_DATE_END_year,  FACT_DATE_END_month,  FACT_DATE_END_day,  unom,  external_create_date_year,  external_create_date_month,  external_create_date_day,  done_date_year,  done_date_month,  done_date_day,  close_date_year,  close_date_month,  close_date_day,  ID,  PARENT_ID,  WORK_NAME_remont_fasadov,  WORK_NAME_remont_kryshi,  WORK_NAME_remont_musoroprovoda,  WORK_NAME_remont_podezdov_napravlennyi_na_vosstanovlenie_ikh_nadlezhashchego_sostoianiia_i_provodimyi_pri_vypolnenii_inykh_rabot_po_kapitalnomu_remontu_obshchego_imushchestva_v_mnogokvartirnom_dome,  WORK_NAME_remont_podvalnykh_pomeshchenii_otnosiashchikhsia_k_obshchemu_imushchestvu_v_mnogokvartirnom_dome,  WORK_NAME_remont_pozharnogo_vodoprovoda,  WORK_NAME_remont_vnutrennego_vodostoka,  WORK_NAME_remont_vnutridomovykh_inzhenernykh_sistem_elektrosnabzheniia,  WORK_NAME_remont_vnutridomovykh_inzhenernykh_sistem_gazosnabzheniia,  WORK_NAME_remont_vnutridomovykh_inzhenernykh_sistem_goriachego_vodosnabzheniia_razvodiashchie_magistrali,  WORK_NAME_remont_vnutridomovykh_inzhenernykh_sistem_goriachego_vodosnabzheniia_stoiaki,  WORK_NAME_remont_vnutridomovykh_inzhenernykh_sistem_kholodnogo_vodosnabzheniia_razvodiashchie_magistrali,  WORK_NAME_remont_vnutridomovykh_inzhenernykh_sistem_kholodnogo_vodosnabzheniia_stoiaki,  WORK_NAME_remont_vnutridomovykh_inzhenernykh_sistem_teplosnabzheniia_razvodiashchie_magistrali,  WORK_NAME_remont_vnutridomovykh_inzhenernykh_sistem_teplosnabzheniia_stoiaki,  WORK_NAME_remont_vnutridomovykh_inzhenernykh_sistem_vodootvedeniia_kanalizatsii_stoiaki,  WORK_NAME_remont_vnutridomovykh_inzhenernykh_sistem_vodootvedeniia_kanalizatsii_vypuski_i_sbornye_truboprovody,  WORK_NAME_zamena_liftovogo_oborudovaniia,  WORK_NAME_zamena_okonnykh_blokov_raspolozhennykh_v_pomeshcheniiakh_obshchego_polzovaniia,  ElevatorNumber_0,  ElevatorNumber_1,  ElevatorNumber_10,  ElevatorNumber_10а,  ElevatorNumber_10б,  ElevatorNumber_11,  ElevatorNumber_12,  ElevatorNumber_1а,  ElevatorNumber_1б,  ElevatorNumber_1в,  ElevatorNumber_2,  ElevatorNumber_2а,  ElevatorNumber_2б,  ElevatorNumber_2в,  ElevatorNumber_3,  ElevatorNumber_3а,  ElevatorNumber_3б,  ElevatorNumber_4,  ElevatorNumber_4а,  ElevatorNumber_4б,  ElevatorNumber_5,  ElevatorNumber_5а,  ElevatorNumber_5б,  ElevatorNumber_6,  ElevatorNumber_6а,  ElevatorNumber_6б,  ElevatorNumber_7,  ElevatorNumber_7а,  ElevatorNumber_7б,  ElevatorNumber_8,  ElevatorNumber_8а,  ElevatorNumber_8б,  ElevatorNumber_9,  ElevatorNumber_9а,  ElevatorNumber_9б,  AdmArea_vostochnyi_administrativnyi_okrug,  District_bogorodskoe,  District_golianovo,  District_ivanovskoe,  District_izmailovo,  District_kosino_ukhtomskii,  District_metrogorodok,  District_novogireevo,  District_novokosino,  District_perovo,  District_preobrazhenskoe,  District_severnoe_izmailovo,  District_sokolinaia_gora,  District_sokolniki,  District_veshniaki,  District_vostochnoe_izmailovo,  District_vostochnyi,  Address_11_ia_parkovaia_37,  Address_11_ia_parkovaia_41,  Address_11_ia_parkovaia_48,  Address_13_ia_parkovaia_32,  Address_13_ia_parkovaia_8_25,  Address_14_ia_parkovaia_3,  Address_15_ia_parkovaia_1_123,  Address_15_ia_parkovaia_23,  Address_15_ia_parkovaia_26,  Address_15_ia_parkovaia_40,  Address_15_ia_parkovaia_47,  Address_15_ia_parkovaia_48,  Address_16_ia_parkovaia_19,  Address_1_ia_parkovaia_7a,  Address_1_ia_vladimirskaia_6,  Address_2_ia_bukhvostova_7,  Address_2_ia_parkovaia_28,  Address_2_ia_pugachiovskaia_14,  Address_2_ia_pugachiovskaia_8,  Address_2_ia_vladimirskaia_38_18,  Address_2_ia_vladimirskaia_46,  Address_2_ia_vladimirskaia_52,  Address_2_ia_vladimirskaia_56,  Address_2_ia_vladimirskaia_8,  Address_3_ia_grazhdanskaia_6,  Address_3_ia_parkovaia_27,  Address_3_ia_parkovaia_37,  Address_3_ia_parkovaia_39,  Address_3_ia_parkovaia_7_17,  Address_3_ia_priadilnaia_15,  Address_3_ia_rybinskaia_21,  Address_4_ia_grazhdanskaia_37,  Address_4_ia_parkovaia_12,  Address_4_ia_parkovaia_23,  Address_4_ia_sokolnicheskaia_3,  Address_7_ia_parkovaia_15,  Address_7_ia_parkovaia_25,  Address_7_ia_parkovaia_5,  Address_7_ia_parkovaia_8a,  Address_8_ia_parkovaia_30,  Address_8_ia_sokolinoi_gory_6,  Address_8_ia_sokolinoi_gory_8,  Address_9_ia_parkovaia_16,  Address_9_ia_parkovaia_5,  Address_9_maia_12,  Address_9_maia_14a,  Address_altaiskaia_17,  Address_altaiskaia_19,  Address_altaiskaia_25,  Address_altaiskaia_32,  Address_altaiskaia_5,  Address_altaiskaia_7,  Address_altaiskaia_9,  Address_alymov_pereulok_13,  Address_baikalskaia_44,  Address_baikalskaia_46,  Address_baikalskaia_47,  Address_baikalskaia_48,  Address_barbolina_4,  Address_boitsovaia_13,  Address_boitsovaia_21,  Address_boitsovaia_22,  Address_boitsovaia_4_37,  Address_bolshaia_cherkizovskaia_12,  Address_bolshaia_cherkizovskaia_24,  Address_bolshaia_cherkizovskaia_32,  Address_bolshaia_cherkizovskaia_8,  Address_bolshoi_kupavenskii_proezd_10,  Address_bolshoi_kupavenskii_proezd_2,  Address_bolshoi_kupavenskii_proezd_4,  Address_bolshoi_kupavenskii_proezd_8,  Address_borisa_zhigulionkova_15,  Address_borisa_zhigulionkova_4,  Address_borisovskaia_37,  Address_bratskaia_19,  Address_bulvar_marshala_rokossovskogo_13,  Address_bulvar_marshala_rokossovskogo_21_21,  Address_bulvar_marshala_rokossovskogo_23,  Address_bulvar_marshala_rokossovskogo_28_14,  Address_bulvar_marshala_rokossovskogo_33_12,  Address_bulvar_marshala_rokossovskogo_8,  Address_burakova_17_2,  Address_burakova_23a,  Address_burakova_9,  Address_cheliabinskaia_10,  Address_cheliabinskaia_11,  Address_cheliabinskaia_14,  Address_cheliabinskaia_18,  Address_cheliabinskaia_19,  Address_cheliabinskaia_2,  Address_cheliabinskaia_22,  Address_cheliabinskaia_24,  Address_cheliabinskaia_4,  Address_cheliabinskaia_6,  Address_chiornoe_ozero_14,  Address_chusovskaia_5,  Address_chusovskaia_6,  Address_chusovskaia_7,  Address_deviataia_rota_15,  Address_deviataia_rota_2,  Address_deviataia_rota_27,  Address_egerskaia_1,  Address_egerskaia_3,  Address_elektrozavodskaia_32,  Address_federativnyi_prospekt_10,  Address_federativnyi_prospekt_16,  Address_federativnyi_prospekt_21,  Address_federativnyi_prospekt_22,  Address_federativnyi_prospekt_30a,  Address_federativnyi_prospekt_32,  Address_federativnyi_prospekt_34,  Address_federativnyi_prospekt_46,  Address_fortunatovskaia_27a,  Address_friazevskaia_15,  Address_gastello_37,  Address_glavnaia_21,  Address_glavnaia_9,  Address_gorod_moskva_2_ia_vladimirskaia_ulitsa_58,  Address_gorod_moskva_3_i_proezd_perova_polia_5a,  Address_gorod_moskva_3_ia_parkovaia_ulitsa_39_korpus_4,  Address_gorod_moskva_4_ia_parkovaia_ulitsa_23_korpus_2,  Address_gorod_moskva_5_ia_sokolinoi_gory_27_korpus_1,  Address_gorod_moskva_5_ia_sokolinoi_gory_27_korpus_2,  Address_gorod_moskva_bolshaia_cherkizovskaia_ulitsa_5_korpus_2,  Address_gorod_moskva_cheliabinskaia_ulitsa_19_korpus_1,  Address_gorod_moskva_cheliabinskaia_ulitsa_19_korpus_4,  Address_gorod_moskva_cheliabinskaia_ulitsa_29,  Address_gorod_moskva_federativnyi_prospekt_28,  Address_gorod_moskva_glavnaia_ulitsa_7,  Address_gorod_moskva_khalturinskaia_ulitsa_7a_korpus_2,  Address_gorod_moskva_kuskovskaia_ulitsa_29_korpus_2,  Address_gorod_moskva_moldagulovoi_16_korpus_3,  Address_gorod_moskva_molostovykh_13_korpus_2,  Address_gorod_moskva_novokosinskaia_ulitsa_10_korpus_1,  Address_gorod_moskva_novokosinskaia_ulitsa_12_korpus_1,  Address_gorod_moskva_novokosinskaia_ulitsa_12_korpus_2,  Address_gorod_moskva_novokosinskaia_ulitsa_12_korpus_3,  Address_gorod_moskva_novokosinskaia_ulitsa_12_korpus_4,  Address_gorod_moskva_novokosinskaia_ulitsa_12_korpus_5,  Address_gorod_moskva_novokosinskaia_ulitsa_14_korpus_3,  Address_gorod_moskva_novokosinskaia_ulitsa_14_korpus_5,  Address_gorod_moskva_novokosinskaia_ulitsa_8_korpus_2,  Address_gorod_moskva_preobrazhenskaia_ulitsa_6,  Address_gorod_moskva_saltykovskaia_ulitsa_11_korpus_2,  Address_gorod_moskva_saltykovskaia_ulitsa_7_korpus_2,  Address_gorod_moskva_saltykovskaia_ulitsa_7_korpus_3,  Address_gorod_moskva_shosse_entuziastov_100_korpus_7,  Address_gorod_moskva_shosse_entuziastov_94_korpus_4,  Address_gorod_moskva_shosse_entuziastov_96_korpus_1,  Address_gorod_moskva_shosse_entuziastov_98_korpus_1,  Address_gorod_moskva_shosse_entuziastov_98_korpus_4,  Address_gorod_moskva_suzdalskaia_ulitsa_18_korpus_6,  Address_gorod_moskva_suzdalskaia_ulitsa_18_korpus_7,  Address_gorod_moskva_uralskaia_ulitsa_23_korpus_4,  Address_gorod_moskva_ussuriiskaia_ulitsa_10,  Address_gorod_moskva_znamenskaia_ulitsa_19,  Address_ibragimova_16,  Address_ibragimova_5,  Address_igralnaia_10,  Address_irkutskaia_12_14,  Address_irkutskaia_16,  Address_ivanteevskaia_1,  Address_ivanteevskaia_23,  Address_ivanteevskaia_28,  Address_izmailovskaia_ploshchad_4,  Address_izmailovskii_bulvar_31,  Address_izmailovskii_proezd_20,  Address_izmailovskii_proezd_22,  Address_izmailovskii_proezd_5,  Address_izmailovskii_proezd_6,  Address_izmailovskii_prospekt_77,  Address_izmailovskii_prospekt_87,  Address_izmailovskoe_shosse_55,  Address_kamchatskaia_2,  Address_kamchatskaia_3,  Address_kamchatskaia_4,  Address_ketcherskaia_10,  Address_ketcherskaia_8,  Address_khabarovskaia_24,  Address_khabarovskaia_7_50,  Address_khabarovskaia_ulitsa_9,  Address_khalturinskaia_14,  Address_khalturinskaia_7a,  Address_kolodeznyi_pereulok_2,  Address_konstantina_fedina_10,  Address_konstantina_fedina_4,  Address_konstantina_fedina_6,  Address_konstantina_fedina_8,  Address_korennaia_8,  Address_korolenko_1,  Address_korolenko_10,  Address_korolenko_2,  Address_kosinskaia_14,  Address_kosinskaia_18,  Address_krasnobogatyrskaia_19,  Address_krasnobogatyrskaia_21,  Address_krasnobogatyrskaia_79,  Address_krasnoiarskaia_1,  Address_krasnoiarskaia_3,  Address_kuskovskaia_1,  Address_lazo_18,  Address_lobachika_23,  Address_malaia_ostroumovskaia_1_3,  Address_malaia_ostroumovskaia_1a,  Address_malaia_ostroumovskaia_1g,  Address_malyi_kupavenskii_proezd_5,  Address_martenovskaia_24,  Address_martenovskaia_31,  Address_martenovskaia_33,  Address_martenovskaia_5,  Address_medovyi_pereulok_6,  Address_metallurgov_5,  Address_metallurgov_52,  Address_millionnaia_11,  Address_millionnaia_8,  Address_moldagulovoi_12,  Address_molostovykh_11,  Address_molostovykh_13,  Address_molostovykh_15,  Address_molostovykh_4,  Address_molostovykh_6,  Address_nikitinskaia_15,  Address_nikitinskaia_31,  Address_nikolaia_khimushina_13,  Address_nikolaia_starostina_7,  Address_nizhniaia_pervomaiskaia_19a,  Address_novogireevskaia_10,  Address_novogireevskaia_14,  Address_novogireevskaia_17,  Address_novogireevskaia_44_28,  Address_novokosinskaia_10,  Address_novokosinskaia_11,  Address_novokosinskaia_14,  Address_novokosinskaia_15,  Address_novokosinskaia_20,  Address_novokosinskaia_24,  Address_novokosinskaia_7,  Address_novosibirskaia_6,  Address_okhotnichia_10_12,  Address_olenii_val_24,  Address_otkrytoe_shosse_2,  Address_otkrytoe_shosse_21,  Address_otkrytoe_shosse_25,  Address_otkrytoe_shosse_27,  Address_perovskaia_49_53,  Address_perovskaia_73_43,  Address_pervomaiskaia_1,  Address_pervomaiskaia_100,  Address_pervomaiskaia_26,  Address_pervomaiskaia_37,  Address_pervomaiskaia_49,  Address_pervomaiskaia_56,  Address_pervomaiskaia_61_8,  Address_pervomaiskaia_7,  Address_pervomaiskaia_99,  Address_plekhanova_22,  Address_plekhanova_25,  Address_plekhanova_26,  Address_plekhanova_28,  Address_preobrazhenskii_val_4,  Address_prospekt_budionnogo_29_1,  Address_prospekt_budionnogo_30_8,  Address_prostornaia_11,  Address_prostornaia_15,  Address_prostornaia_5,  Address_rusakovskaia_29,  Address_saianskaia_13,  Address_saianskaia_6,  Address_sakhalinskaia_6,  Address_saltykovskaia_11,  Address_shcherbakovskaia_35,  Address_shcherbakovskaia_7,  Address_shcherbakovskaia_8,  Address_shchiolkovskoe_shosse_85,  Address_shchiolkovskoe_shosse_92,  Address_shosse_entuziastov_100,  Address_sirenevyi_bulvar_1,  Address_sirenevyi_bulvar_65,  Address_sirenevyi_bulvar_69,  Address_snaiperskaia_6,  Address_soiuznyi_prospekt_20,  Address_soiuznyi_prospekt_4,  Address_soiuznyi_prospekt_9,  Address_sokolnicheskii_val_24,  Address_sokolnicheskii_val_38,  Address_sokolnicheskii_val_46,  Address_sredniaia_pervomaiskaia_33,  Address_sredniaia_pervomaiskaia_36,  Address_sredniaia_pervomaiskaia_50,  Address_stalevarov_12,  Address_stalevarov_16,  Address_stalevarov_18,  Address_stalevarov_20,  Address_stalevarov_22,  Address_stalevarov_4,  Address_staryi_gai_1,  Address_staryi_gai_10,  Address_staryi_gai_12,  Address_staryi_gai_14,  Address_staryi_gai_2,  Address_staryi_gai_4,  Address_suzdalskaia_10,  Address_suzdalskaia_ulitsa_6_korpus_2,  Address_svobodnyi_prospekt_10,  Address_svobodnyi_prospekt_11,  Address_svobodnyi_prospekt_39,  Address_svobodnyi_prospekt_7,  Address_uralskaia_11,  Address_uralskaia_12_21,  Address_uralskaia_13,  Address_ussuriiskaia_11,  Address_ussuriiskaia_4,  Address_ussuriiskaia_5,  Address_utrenniaia_22,  Address_verkhniaia_pervomaiskaia_24_17,  Address_verkhniaia_pervomaiskaia_6,  Address_veshniakovskaia_11,  Address_veshniakovskaia_3,  Address_veshniakovskaia_8,  Address_vnutrigorodskaia_territoriia_munitsipalnyi_okrug_veshniaki_staryi_gai,  Address_zavodskoi_proezd_11,  Address_zavodskoi_proezd_13,  Address_zelionyi_prospekt_11,  Address_zelionyi_prospekt_4,  Address_zelionyi_prospekt_68,  Address_zelionyi_prospekt_69,  Address_zelionyi_prospekt_70,  Address_zelionyi_prospekt_83,  Address_zelionyi_prospekt_87,  Address_zelionyi_prospekt_9,  Address_znamenskaia_8,  Address_zverinetskaia_14,  incident_name_anomalnoe_znachenie_massy_v_podaiushchem_truboprovode,  incident_name_anomalnoe_znachenie_obema_v_obratnom_truboprovode,  incident_name_anomalnoe_znachenie_obema_v_podaiushchem_truboprovode,  incident_name_anomalnoe_znachenie_otpushchennoi_teplovoi_energii,  incident_name_anomalnoe_znachenie_raznitsy_temperatur,  incident_name_anomalnoe_znachenie_temperatury_v_obratnom_truboprovode,  incident_name_anomalnoe_znachenie_temperatury_v_podaiushchem_truboprovode,  incident_name_anomalnoe_znachenie_vremeni_narabotki,  incident_name_avariinaia_protechka_s_krovli,  incident_name_avariinaia_protechka_trub_v_podezde,  incident_name_avariinaia_protechka_v_podezde,  incident_name_avariinoe_povrezhdenie_lestnitsy,  incident_name_blokirovka_vkhodnoi_dveri,  incident_name_datchik_vibratsii,  incident_name_gul_shum_na_obekte_ao_mosgaz_zapakh_gaza_na_ulitse,  incident_name_gul_shum_vibratsiia_ot_gazoprovoda,  incident_name_izmenenie_kanala_sviazi,  incident_name_izmenenie_konfiguratsii_uspd,  incident_name_kachestvo_vody_rzhavaia_voda,  incident_name_kachestvo_vody_voda_s_zapakhom,  incident_name_khlopok_gaza,  incident_name_kolodtsy_khlopaet_kryshka,  incident_name_kolodtsy_liuk_raskolot,  incident_name_kolodtsy_liuk_sdvinut,  incident_name_kolodtsy_liuk_zanizhen,  incident_name_kolodtsy_liuk_zavyshen,  incident_name_kolodtsy_prochee,  incident_name_kolodtsy_proval_kolodtsa,  incident_name_kolodtsy_razrushen_asfalt_vokrug_kolodtsa,  incident_name_kritichnoe_otklonenie_temperatury_gvs_nizhe_normy_dnem_monitoring,  incident_name_kritichnoe_otklonenie_temperatury_gvs_nizhe_normy_nochiu_monitoring,  incident_name_lift_trebuet_remonta,  incident_name_nalichie_gribka_pleseni,  incident_name_nalichie_krys_myshei_nasekomykh_v_mestakh_obshchego_polzovaniia,  incident_name_nalichie_nadpisei_obiavlenii,  incident_name_narushenie_na_nastennom_gazoprovode,  incident_name_narushenie_na_nastennom_gazoprovode_zapakh_gaza_v_kukhne,  incident_name_narushenie_podachi_vody_net_vody_v_zdanii,  incident_name_narushenie_podachi_vody_prochee,  incident_name_narushenie_podachi_vody_slaboe_davlenie,  incident_name_narushenie_v_rabote_gazovogo_oborudovaniia,  incident_name_nedogrev_gvs,  incident_name_nedokomplekt_pozharnogo_shkafa,  incident_name_neispravnost_pozharnoi_signalizatsii,  incident_name_neispravnost_zapiraiushchego_ustroistva,  incident_name_neochishchennaia_krovlia,  incident_name_nerabotosposobnost_podemnoi_platformy_dlia_invalidov,  incident_name_nesovpadenie_seriinogo_nomera_pu_na_uspd,  incident_name_net_gaza,  incident_name_net_pitaniia_uspd,  incident_name_net_sviazi_s_pu,  incident_name_net_sviazi_s_uspd,  incident_name_neudovletvoritelnoe_sanitarnoe_soderzhanie_musoroprovoda,  incident_name_neudovletvoritelnoe_tekhnicheskoe_soderzhanie_musoroprovoda,  incident_name_nizkii_uroven_signala_gsm,  incident_name_obrushenie,  incident_name_opisanie_otsutstvuet,  incident_name_otklonenie_gvs_nizhe_normy_dnem_monitoring,  incident_name_otklonenie_gvs_nizhe_normy_nochiu_monitoring,  incident_name_otkryt_kolodets,  incident_name_otkryt_kolodets_mg,  incident_name_otkryt_kolodets_na_gazone,  incident_name_otkryt_shkaf_uspd,  incident_name_otritsatelnye_integralnye_znacheniia,  incident_name_otsutstvie_gvs_v_dome,  incident_name_otsutstvie_khvs_v_dome,  incident_name_otsutstvie_osveshcheniia_v_lifte,  incident_name_otsutstvie_osveshcheniia_v_mestakh_obshchego_polzovaniia,  incident_name_otsutstvie_otopleniia_v_dome,  incident_name_otsutstvie_sviazi,  incident_name_otsutstvuet_tsirkuliatsiia_gvs,  incident_name_otsutstvuiut_aktualnye_mgnovennye_znacheniia,  incident_name_otsutstvuiut_aktualnye_sutochnye_znacheniia,  incident_name_p1_0,  incident_name_p2_0,  incident_name_podtoplenie_kanala_teploseti,  incident_name_podtoplenie_postupaet_voda_v_kameru_teploseti,  incident_name_podtoplenie_povrezhdenie_vodoprovoda_vo_vnutrikvartalnom_kollektore,  incident_name_podtoplenie_prochee,  incident_name_podtoplenie_stroenii,  incident_name_podtoplenie_tech_truboprovoda_na_vodomernom_uzle,  incident_name_podtoplenie_tech_zadvizhki_na_vodomernom_uzle,  incident_name_podtoplenie_voda_postupaet_v_kotlovan_stroitelei,  incident_name_polomka_lifta,  incident_name_polomka_osveshcheniia_pered_podezdom,  incident_name_polomka_pandusa,  incident_name_polomka_pochtovykh_iashchikov,  incident_name_povrezhdenie_asfaltobetonnogo_pokrytiia,  incident_name_povrezhdenie_elementov_fasada,  incident_name_povrezhdenie_elementov_vkhodnoi_dveri,  incident_name_povrezhdenie_inzhenernykh_setei,  incident_name_povrezhdenie_kozyrka_podezda,  incident_name_povrezhdenie_krovli,  incident_name_povrezhdenie_mezhpanelnykh_shvov,  incident_name_povrezhdenie_otdelochnykh_pokrytii_pola_steny_stupenei_peril_drugikh_elementov,  incident_name_povrezhdenie_pola_steny_stupenei_peril_drugikh_elementov,  incident_name_povrezhdenie_polomka_svetilnika,  incident_name_povrezhdenie_sistemy_elektroprovodki_shchitovogo_oborudovaniia,  incident_name_povrezhdenie_vnutrennei_dveri,  incident_name_pozhar,  incident_name_pozhar_zadymlenie,  incident_name_proryv_teploseti_vodoprovoda,  incident_name_protechka_s_balkona_kozyrka,  incident_name_protechka_s_krovli,  incident_name_protechka_trub_v_podezde,  incident_name_protechka_v_podezde,  incident_name_proval,  incident_name_proval_na_meste_staroi_raskopki,  incident_name_provaly_prochee,  incident_name_proverit_nastennyi_gazoprovod,  incident_name_raskhozhdenie_vremeni_pu,  incident_name_razbito_slomano_povrezhdeno_okno_v_mestakh_obshchego_polzovaniia,  incident_name_silnaia_tech_v_sisteme_otopleniia,  incident_name_t1_max,  incident_name_t1_min,  incident_name_tech_v_sisteme_otopleniia,  incident_name_temperatura_gvs_nizhe_normy,  incident_name_temperatura_v_kvartire_nizhe_normativnoi,  incident_name_temperatura_v_pomeshchenii_obshchego_polzovaniia_nizhe_normativnoi,  incident_name_ugroza_vzryva,  incident_name_utechka_vody_iz_kolodtsa_postupaet_na_proezzhuiu_chast,  incident_name_utechka_vody_iz_kolodtsa_prochee,  incident_name_utechka_vody_iz_pod_asfalta_prochee,  incident_name_utechka_vody_iz_zemli_postupaet_na_proezzhuiu_chast,  incident_name_utechka_vody_iz_zemli_prochee,  incident_name_utechka_vody_prochee,  incident_name_vibriruet_gazovaia_truba,  incident_name_vzryv,  incident_name_zadymlenie,  incident_name_zagriaznenie_lifta,  incident_name_zagriaznenie_okna_v_mestakh_obshchego_polzovaniia,  incident_name_zagriaznenie_otdelochnykh_pokrytii,  incident_name_zagriaznenie_vkhodnoi_dveri,  incident_name_zagriaznenie_vody,  incident_name_zagriaznenie_zamusorennost_kozyrka,  incident_name_zagriaznenie_zamusorennost_podezda,  incident_name_zagriaznenie_zamusorennost_podvala_polupodvala,  incident_name_zagriaznenie_zamusorennost_territorii,  incident_name_zapakh_gari_v_kvartire_podezde,  incident_name_zapakh_gaza_iz_zakrytoi_kvartiry,  incident_name_zapakh_gaza_na_ulitse,  incident_name_zapakh_gaza_na_ulitse_zapakh_gaza_v_dome,  incident_name_zapakh_gaza_ot_gazovogo_oborudovaniia,  incident_name_zapakh_gaza_ot_kolonki,  incident_name_zapakh_gaza_ot_stoiaka,  incident_name_zapakh_gaza_s_ulitsy_v_kvartiru,  incident_name_zapakh_gaza_v_dome,  incident_name_zapakh_gaza_v_kholle,  incident_name_zapakh_gaza_v_kholle_i_kvartire,  incident_name_zapakh_gaza_v_kukhne,  incident_name_zapakh_gaza_v_kukhne_zapakh_gaza_v_dome,  incident_name_zapakh_gaza_v_kvartire,  incident_name_zapakh_gaza_v_kvartire_pomeshchenii,  incident_name_zapakh_gaza_v_kvartire_pomeshchenii_zapakh_gaza_v_dome,  incident_name_zapakh_gaza_v_podezde,  incident_name_zapakh_gaza_v_podezde_i_na_ulitse,  incident_name_zapakh_gaza_v_podezde_i_v_kvartire,  incident_name_zapakh_gaza_v_pomeshchenii,  incident_name_zasor_kanalizatsii,  incident_name_zasor_musoroprovoda,  incident_name_zasor_na_gorodskoi_seti,  incident_name_zasory_prochee,  incident_name_zasory_zasor_na_dvorovoi_seti,  incident_name_zastrevanie_v_lifte,  source_ASUPR,  source_CAFAP,  source_EDC,  source_MGI,  source_MOS_GAS,  source_MVK,  source_NG,  address_11_ia_parkovaia_37,  address_11_ia_parkovaia_41,  address_11_ia_parkovaia_48,  address_13_ia_parkovaia_32,  address_13_ia_parkovaia_8_25,  address_14_ia_parkovaia_3,  address_15_ia_parkovaia_1_123,  address_15_ia_parkovaia_23,  address_15_ia_parkovaia_26,  address_15_ia_parkovaia_40,  address_15_ia_parkovaia_47,  address_15_ia_parkovaia_48,  address_16_ia_parkovaia_19,  address_1_ia_parkovaia_7a,  address_1_ia_vladimirskaia_6,  address_2_ia_bukhvostova_7,  address_2_ia_parkovaia_28,  address_2_ia_pugachiovskaia_14,  address_2_ia_pugachiovskaia_8,  address_2_ia_vladimirskaia_38_18,  address_2_ia_vladimirskaia_46,  address_2_ia_vladimirskaia_52,  address_2_ia_vladimirskaia_56,  address_2_ia_vladimirskaia_58,  address_2_ia_vladimirskaia_8,  address_3_i_proezd_perova_polia_5a,  address_3_ia_grazhdanskaia_6,  address_3_ia_parkovaia_27,  address_3_ia_parkovaia_37,  address_3_ia_parkovaia_39,  address_3_ia_parkovaia_7_17,  address_3_ia_priadilnaia_15,  address_3_ia_rybinskaia_21,  address_4_ia_grazhdanskaia_37,  address_4_ia_parkovaia_12,  address_4_ia_parkovaia_23,  address_4_ia_sokolnicheskaia_3,  address_5_ia_sokolinoi_gory_27,  address_7_ia_parkovaia_15,  address_7_ia_parkovaia_25,  address_7_ia_parkovaia_5,  address_7_ia_parkovaia_8a,  address_8_ia_parkovaia_30,  address_8_ia_sokolinoi_gory_6,  address_8_ia_sokolinoi_gory_8,  address_9_ia_parkovaia_16,  address_9_ia_parkovaia_5,  address_9_maia_12,  address_9_maia_14a,  address_altaiskaia_17,  address_altaiskaia_19,  address_altaiskaia_25,  address_altaiskaia_32,  address_altaiskaia_5,  address_altaiskaia_7,  address_altaiskaia_9,  address_alymov_pereulok_13,  address_baikalskaia_44,  address_baikalskaia_46,  address_baikalskaia_47,  address_baikalskaia_48,  address_barbolina_4,  address_boitsovaia_13,  address_boitsovaia_21,  address_boitsovaia_22,  address_boitsovaia_4_37,  address_bolshaia_cherkizovskaia_12,  address_bolshaia_cherkizovskaia_24,  address_bolshaia_cherkizovskaia_32,  address_bolshaia_cherkizovskaia_5,  address_bolshaia_cherkizovskaia_8,  address_bolshoi_kupavenskii_proezd_10,  address_bolshoi_kupavenskii_proezd_2,  address_bolshoi_kupavenskii_proezd_4,  address_bolshoi_kupavenskii_proezd_8,  address_borisa_zhigulionkova_15,  address_borisa_zhigulionkova_4,  address_borisovskaia_37,  address_bratskaia_19,  address_bulvar_marshala_rokossovskogo_13,  address_bulvar_marshala_rokossovskogo_21_21,  address_bulvar_marshala_rokossovskogo_23,  address_bulvar_marshala_rokossovskogo_28_14,  address_bulvar_marshala_rokossovskogo_33_12,  address_bulvar_marshala_rokossovskogo_8,  address_burakova_17_2,  address_burakova_23a,  address_burakova_9,  address_cheliabinskaia_10,  address_cheliabinskaia_11,  address_cheliabinskaia_14,  address_cheliabinskaia_18,  address_cheliabinskaia_19,  address_cheliabinskaia_2,  address_cheliabinskaia_22,  address_cheliabinskaia_24,  address_cheliabinskaia_29,  address_cheliabinskaia_4,  address_cheliabinskaia_6,  address_cheliabinskaia_ulitsa_19_korpus_1,  address_cheliabinskaia_ulitsa_19_korpus_4,  address_chiornoe_ozero_14,  address_chusovskaia_5,  address_chusovskaia_6,  address_chusovskaia_7,  address_deviataia_rota_15,  address_deviataia_rota_2,  address_deviataia_rota_27,  address_egerskaia_1,  address_egerskaia_3,  address_elektrozavodskaia_32,  address_federativnyi_prospekt_10,  address_federativnyi_prospekt_16,  address_federativnyi_prospekt_21,  address_federativnyi_prospekt_22,  address_federativnyi_prospekt_28,  address_federativnyi_prospekt_30a,  address_federativnyi_prospekt_32,  address_federativnyi_prospekt_34,  address_federativnyi_prospekt_46,  address_fortunatovskaia_27a,  address_friazevskaia_15,  address_gastello_37,  address_glavnaia_21,  address_glavnaia_9,  address_glavnaia_ulitsa_7,  address_ibragimova_16,  address_ibragimova_5,  address_igralnaia_10,  address_irkutskaia_12_14,  address_irkutskaia_16,  address_ivanteevskaia_1,  address_ivanteevskaia_23,  address_ivanteevskaia_28,  address_izmailovskaia_ploshchad_4,  address_izmailovskii_bulvar_31,  address_izmailovskii_proezd_20,  address_izmailovskii_proezd_22,  address_izmailovskii_proezd_5,  address_izmailovskii_proezd_6,  address_izmailovskii_prospekt_77,  address_izmailovskii_prospekt_87,  address_izmailovskoe_shosse_55,  address_kamchatskaia_2,  address_kamchatskaia_3,  address_kamchatskaia_4,  address_ketcherskaia_10,  address_ketcherskaia_8,  address_khabarovskaia_24,  address_khabarovskaia_7_50,  address_khabarovskaia_ulitsa_9,  address_khalturinskaia_14,  address_khalturinskaia_7a,  address_kolodeznyi_pereulok_2,  address_konstantina_fedina_10,  address_konstantina_fedina_4,  address_konstantina_fedina_6,  address_konstantina_fedina_8,  address_korennaia_8,  address_korolenko_1,  address_korolenko_10,  address_korolenko_2,  address_kosinskaia_14,  address_kosinskaia_18,  address_krasnobogatyrskaia_19,  address_krasnobogatyrskaia_21,  address_krasnobogatyrskaia_79,  address_krasnoiarskaia_1,  address_krasnoiarskaia_3,  address_kuskovskaia_1,  address_kuskovskaia_29,  address_lazo_18,  address_lobachika_23,  address_malaia_ostroumovskaia_1_3,  address_malaia_ostroumovskaia_1a,  address_malaia_ostroumovskaia_1g,  address_malyi_kupavenskii_proezd_5,  address_martenovskaia_24,  address_martenovskaia_31,  address_martenovskaia_33,  address_martenovskaia_5,  address_medovyi_pereulok_6,  address_metallurgov_5,  address_metallurgov_52,  address_millionnaia_11,  address_millionnaia_8,  address_moldagulovoi_12,  address_moldagulovoi_16,  address_molostovykh_11,  address_molostovykh_13,  address_molostovykh_15,  address_molostovykh_4,  address_molostovykh_6,  address_nikitinskaia_15,  address_nikitinskaia_31,  address_nikolaia_khimushina_13,  address_nikolaia_starostina_7,  address_nizhniaia_pervomaiskaia_19a,  address_novogireevskaia_10,  address_novogireevskaia_14,  address_novogireevskaia_17,  address_novogireevskaia_44_28,  address_novokosinskaia_10,  address_novokosinskaia_11,  address_novokosinskaia_12,  address_novokosinskaia_14,  address_novokosinskaia_15,  address_novokosinskaia_20,  address_novokosinskaia_24,  address_novokosinskaia_7,  address_novokosinskaia_8,  address_novokosinskaia_ulitsa_12_korpus_1,  address_novosibirskaia_6,  address_okhotnichia_10_12,  address_olenii_val_24,  address_otkrytoe_shosse_2,  address_otkrytoe_shosse_21,  address_otkrytoe_shosse_25,  address_otkrytoe_shosse_27,  address_perovskaia_49_53,  address_perovskaia_73_43,  address_pervomaiskaia_1,  address_pervomaiskaia_100,  address_pervomaiskaia_26,  address_pervomaiskaia_37,  address_pervomaiskaia_49,  address_pervomaiskaia_56,  address_pervomaiskaia_61_8,  address_pervomaiskaia_7,  address_pervomaiskaia_99,  address_plekhanova_22,  address_plekhanova_25,  address_plekhanova_26,  address_plekhanova_28,  address_preobrazhenskaia_6,  address_preobrazhenskii_val_4,  address_prospekt_budionnogo_29_1,  address_prospekt_budionnogo_30_8,  address_prostornaia_11,  address_prostornaia_15,  address_prostornaia_5,  address_rusakovskaia_29,  address_saianskaia_13,  address_saianskaia_6,  address_sakhalinskaia_6,  address_saltykovskaia_11,  address_saltykovskaia_7,  address_saltykovskaia_ulitsa_11_korpus_2,  address_saltykovskaia_ulitsa_7_korpus_3,  address_shcherbakovskaia_35,  address_shcherbakovskaia_7,  address_shcherbakovskaia_8,  address_shchiolkovskoe_shosse_85,  address_shchiolkovskoe_shosse_92,  address_shosse_entuziastov_100,  address_shosse_entuziastov_100_korpus_7,  address_shosse_entuziastov_94,  address_shosse_entuziastov_96,  address_shosse_entuziastov_98,  address_sirenevyi_bulvar_1,  address_sirenevyi_bulvar_65,  address_sirenevyi_bulvar_69,  address_snaiperskaia_6,  address_soiuznyi_prospekt_20,  address_soiuznyi_prospekt_4,  address_soiuznyi_prospekt_9,  address_sokolnicheskii_val_24,  address_sokolnicheskii_val_38,  address_sokolnicheskii_val_46,  address_sredniaia_pervomaiskaia_33,  address_sredniaia_pervomaiskaia_36,  address_sredniaia_pervomaiskaia_50,  address_stalevarov_12,  address_stalevarov_16,  address_stalevarov_18,  address_stalevarov_20,  address_stalevarov_22,  address_stalevarov_4,  address_staryi_gai_1,  address_staryi_gai_10,  address_staryi_gai_12,  address_staryi_gai_14,  address_staryi_gai_2,  address_staryi_gai_4,  address_staryi_gai_6,  address_suzdalskaia_10,  address_suzdalskaia_18,  address_suzdalskaia_ulitsa_6_korpus_2,  address_svobodnyi_prospekt_10,  address_svobodnyi_prospekt_11,  address_svobodnyi_prospekt_39,  address_svobodnyi_prospekt_7,  address_uralskaia_11,  address_uralskaia_12_21,  address_uralskaia_ulitsa_13,  address_uralskaia_ulitsa_23_korpus_4,  address_ussuriiskaia_11,  address_ussuriiskaia_4,  address_ussuriiskaia_5,  address_ussuriiskaia_ulitsa_10,  address_utrenniaia_22,  address_verkhniaia_pervomaiskaia_24_17,  address_verkhniaia_pervomaiskaia_6,  address_veshniakovskaia_11,  address_veshniakovskaia_3,  address_veshniakovskaia_8,  address_zavodskoi_proezd_11,  address_zavodskoi_proezd_13,  address_zelionyi_prospekt_11,  address_zelionyi_prospekt_4,  address_zelionyi_prospekt_68,  address_zelionyi_prospekt_69,  address_zelionyi_prospekt_70,  address_zelionyi_prospekt_83,  address_zelionyi_prospekt_87,  address_zelionyi_prospekt_9,  address_znamenskaia_19,  address_znamenskaia_8,  address_zverinetskaia_14,  NAME_altaiskaia_17,  NAME_altaiskaia_19,  NAME_altaiskaia_25,  NAME_altaiskaia_32,  NAME_altaiskaia_5,  NAME_altaiskaia_7,  NAME_altaiskaia_9,  NAME_alymov_per_13,  NAME_baikalskaia_44,  NAME_baikalskaia_46,  NAME_baikalskaia_47,  NAME_baikalskaia_48,  NAME_barbolina_4,  NAME_boitsovaia_13,  NAME_boitsovaia_21,  NAME_boitsovaia_22,  NAME_boitsovaia_4_37,  NAME_borisa_zhigulenkova_15,  NAME_borisa_zhigulenkova_4,  NAME_borisovskaia_37,  NAME_bratskaia_19,  NAME_budennogo_prosp_29_1,  NAME_budennogo_prosp_30_8,  NAME_bukhvostova_2_ia_7,  NAME_burakova_17_2,  NAME_burakova_23a,  NAME_burakova_9,  NAME_cheliabinskaia_10,  NAME_cheliabinskaia_11,  NAME_cheliabinskaia_14,  NAME_cheliabinskaia_18,  NAME_cheliabinskaia_19,  NAME_cheliabinskaia_2,  NAME_cheliabinskaia_22,  NAME_cheliabinskaia_24,  NAME_cheliabinskaia_29,  NAME_cheliabinskaia_4,  NAME_cheliabinskaia_6,  NAME_cherkizovskaia_b_12,  NAME_cherkizovskaia_b_24,  NAME_cherkizovskaia_b_32,  NAME_cherkizovskaia_b_5,  NAME_cherkizovskaia_b_8,  NAME_chernoe_ozero_14,  NAME_chusovskaia_5,  NAME_chusovskaia_6,  NAME_chusovskaia_7,  NAME_deviataia_rota_15,  NAME_deviataia_rota_2,  NAME_deviataia_rota_27,  NAME_deviatogo_maia_12,  NAME_deviatogo_maia_14a,  NAME_egerskaia_1,  NAME_egerskaia_3,  NAME_elektrozavodskaia_32,  NAME_entuziastov_shosse_100,  NAME_entuziastov_shosse_94,  NAME_entuziastov_shosse_96,  NAME_entuziastov_shosse_98,  NAME_federativnyi_prosp_10,  NAME_federativnyi_prosp_16,  NAME_federativnyi_prosp_21,  NAME_federativnyi_prosp_22,  NAME_federativnyi_prosp_28,  NAME_federativnyi_prosp_30a,  NAME_federativnyi_prosp_32,  NAME_federativnyi_prosp_34,  NAME_federativnyi_prosp_46,  NAME_fortunatovskaia_27a,  NAME_friazevskaia_15,  NAME_gastello_37,  NAME_glavnaia_21,  NAME_glavnaia_7,  NAME_glavnaia_9,  NAME_grazhdanskaia_3_ia_6,  NAME_grazhdanskaia_4_ia_37,  NAME_ibragimova_16,  NAME_ibragimova_5,  NAME_igralnaia_10,  NAME_irkutskaia_12_14,  NAME_irkutskaia_16,  NAME_ivanteevskaia_1,  NAME_ivanteevskaia_23,  NAME_ivanteevskaia_28,  NAME_izmailovskaia_pl_4,  NAME_izmailovskii_bulv_31,  NAME_izmailovskii_pr_20,  NAME_izmailovskii_pr_22,  NAME_izmailovskii_pr_5,  NAME_izmailovskii_pr_6,  NAME_izmailovskii_prosp_77,  NAME_izmailovskii_prosp_87,  NAME_izmailovskoe_shosse_55,  NAME_kamchatskaia_2,  NAME_kamchatskaia_3,  NAME_kamchatskaia_4,  NAME_ketcherskaia_10,  NAME_ketcherskaia_8,  NAME_khabarovskaia_24,  NAME_khabarovskaia_7_50,  NAME_khabarovskaia_9,  NAME_khalturinskaia_14,  NAME_khalturinskaia_7a,  NAME_kolodeznyi_per_2,  NAME_konstantina_fedina_10,  NAME_konstantina_fedina_4,  NAME_konstantina_fedina_6,  NAME_konstantina_fedina_8,  NAME_korennaia_8,  NAME_korolenko_1,  NAME_korolenko_10,  NAME_korolenko_2,  NAME_kosinskaia_14,  NAME_kosinskaia_18,  NAME_krasnobogatyrskaia_19,  NAME_krasnobogatyrskaia_21,  NAME_krasnobogatyrskaia_79,  NAME_krasnoiarskaia_1,  NAME_krasnoiarskaia_3,  NAME_kupavenskii_b_pr_10,  NAME_kupavenskii_b_pr_2,  NAME_kupavenskii_b_pr_4,  NAME_kupavenskii_b_pr_8,  NAME_kupavenskii_m_pr_5,  NAME_kuskovskaia_1,  NAME_kuskovskaia_29,  NAME_lazo_18,  NAME_lobachika_23,  NAME_martenovskaia_24,  NAME_martenovskaia_31,  NAME_martenovskaia_33,  NAME_martenovskaia_5,  NAME_medovyi_per_6,  NAME_metallurgov_5,  NAME_metallurgov_52,  NAME_millionnaia_11,  NAME_millionnaia_8,  NAME_moldagulovoi_12,  NAME_moldagulovoi_16,  NAME_molostovykh_11,  NAME_molostovykh_13,  NAME_molostovykh_15,  NAME_molostovykh_4,  NAME_molostovykh_6,  NAME_nikitinskaia_15,  NAME_nikitinskaia_31,  NAME_nikolaia_khimushina_13,  NAME_nikolaia_starostina_7,  NAME_novogireevskaia_10,  NAME_novogireevskaia_14,  NAME_novogireevskaia_17,  NAME_novogireevskaia_44_28,  NAME_novokosinskaia_10,  NAME_novokosinskaia_11,  NAME_novokosinskaia_12,  NAME_novokosinskaia_14,  NAME_novokosinskaia_15,  NAME_novokosinskaia_20,  NAME_novokosinskaia_24,  NAME_novokosinskaia_7,  NAME_novokosinskaia_8,  NAME_novosibirskaia_6,  NAME_okhotnichia_10_12,  NAME_olenii_val_24,  NAME_ostroumovskaia_m_1_3,  NAME_ostroumovskaia_m_1a,  NAME_ostroumovskaia_m_1g,  NAME_otkrytoe_shosse_2,  NAME_otkrytoe_shosse_21,  NAME_otkrytoe_shosse_25,  NAME_otkrytoe_shosse_27,  NAME_parkovaia_11_ia_37,  NAME_parkovaia_11_ia_41,  NAME_parkovaia_11_ia_48,  NAME_parkovaia_13_ia_32,  NAME_parkovaia_13_ia_8_25,  NAME_parkovaia_14_ia_3,  NAME_parkovaia_15_ia_1_123,  NAME_parkovaia_15_ia_23,  NAME_parkovaia_15_ia_26,  NAME_parkovaia_15_ia_40,  NAME_parkovaia_15_ia_47,  NAME_parkovaia_15_ia_48,  NAME_parkovaia_16_ia_19,  NAME_parkovaia_1_ia_7a,  NAME_parkovaia_2_ia_28,  NAME_parkovaia_3_ia_27,  NAME_parkovaia_3_ia_37,  NAME_parkovaia_3_ia_39,  NAME_parkovaia_3_ia_7_17,  NAME_parkovaia_4_ia_12,  NAME_parkovaia_4_ia_23,  NAME_parkovaia_7_ia_15,  NAME_parkovaia_7_ia_25,  NAME_parkovaia_7_ia_5,  NAME_parkovaia_7_ia_8a,  NAME_parkovaia_8_ia_30,  NAME_parkovaia_9_ia_16,  NAME_parkovaia_9_ia_5,  NAME_perova_polia_3_i_pr_5a,  NAME_perovskaia_49_53,  NAME_perovskaia_73_43,  NAME_pervomaiskaia_1,  NAME_pervomaiskaia_100,  NAME_pervomaiskaia_26,  NAME_pervomaiskaia_37,  NAME_pervomaiskaia_49,  NAME_pervomaiskaia_56,  NAME_pervomaiskaia_61_8,  NAME_pervomaiskaia_7,  NAME_pervomaiskaia_99,  NAME_pervomaiskaia_nizhn_19a,  NAME_pervomaiskaia_sr_33,  NAME_pervomaiskaia_sr_36,  NAME_pervomaiskaia_sr_50,  NAME_pervomaiskaia_verkhn_24_17,  NAME_pervomaiskaia_verkhn_6,  NAME_plekhanova_22,  NAME_plekhanova_25,  NAME_plekhanova_26,  NAME_plekhanova_28,  NAME_preobrazhenskaia_6,  NAME_preobrazhenskii_val_4,  NAME_priadilnaia_3_ia_15,  NAME_prostornaia_11,  NAME_prostornaia_15,  NAME_prostornaia_5,  NAME_pugachevskaia_2_ia_14,  NAME_pugachevskaia_2_ia_8,  NAME_rokossovskogo_marshala_bulv_13,  NAME_rokossovskogo_marshala_bulv_21_21,  NAME_rokossovskogo_marshala_bulv_23,  NAME_rokossovskogo_marshala_bulv_28_14,  NAME_rokossovskogo_marshala_bulv_33_12,  NAME_rokossovskogo_marshala_bulv_8,  NAME_rusakovskaia_29,  NAME_rybinskaia_3_ia_21,  NAME_saianskaia_13,  NAME_saianskaia_6,  NAME_sakhalinskaia_6,  NAME_saltykovskaia_11,  NAME_saltykovskaia_7,  NAME_shchelkovskoe_shosse_85,  NAME_shchelkovskoe_shosse_92,  NAME_shcherbakovskaia_35,  NAME_shcherbakovskaia_7,  NAME_shcherbakovskaia_8,  NAME_sirenevyi_bulv_1,  NAME_sirenevyi_bulv_65,  NAME_sirenevyi_bulv_69,  NAME_snaiperskaia_6,  NAME_soiuznyi_prosp_20,  NAME_soiuznyi_prosp_4,  NAME_soiuznyi_prosp_9,  NAME_sokolinoi_gory_5_ia_27,  NAME_sokolinoi_gory_8_ia_6,  NAME_sokolinoi_gory_8_ia_8,  NAME_sokolnicheskaia_4_ia_3,  NAME_sokolnicheskii_val_24,  NAME_sokolnicheskii_val_38,  NAME_sokolnicheskii_val_46,  NAME_stalevarov_12,  NAME_stalevarov_16,  NAME_stalevarov_18,  NAME_stalevarov_20,  NAME_stalevarov_22,  NAME_stalevarov_4,  NAME_staryi_gai_1,  NAME_staryi_gai_10,  NAME_staryi_gai_12,  NAME_staryi_gai_14,  NAME_staryi_gai_2,  NAME_staryi_gai_4,  NAME_staryi_gai_6,  NAME_suzdalskaia_10,  NAME_suzdalskaia_18,  NAME_suzdalskaia_6,  NAME_svobodnyi_prosp_10,  NAME_svobodnyi_prosp_11,  NAME_svobodnyi_prosp_39,  NAME_svobodnyi_prosp_7,  NAME_uralskaia_11,  NAME_uralskaia_12_21,  NAME_uralskaia_13,  NAME_uralskaia_23,  NAME_ussuriiskaia_10,  NAME_ussuriiskaia_11,  NAME_ussuriiskaia_4,  NAME_ussuriiskaia_5,  NAME_utrenniaia_22,  NAME_veshniakovskaia_11,  NAME_veshniakovskaia_3,  NAME_veshniakovskaia_8,  NAME_vladimirskaia_1_ia_6,  NAME_vladimirskaia_2_ia_38_18,  NAME_vladimirskaia_2_ia_46,  NAME_vladimirskaia_2_ia_52,  NAME_vladimirskaia_2_ia_56,  NAME_vladimirskaia_2_ia_58,  NAME_vladimirskaia_2_ia_8,  NAME_zavodskoi_pr_11,  NAME_zavodskoi_pr_13,  NAME_zelenyi_prosp_11,  NAME_zelenyi_prosp_4,  NAME_zelenyi_prosp_68,  NAME_zelenyi_prosp_69,  NAME_zelenyi_prosp_70,  NAME_zelenyi_prosp_83,  NAME_zelenyi_prosp_87,  NAME_zelenyi_prosp_9,  NAME_znamenskaia_19,  NAME_znamenskaia_8,  NAME_zverinetskaia_14,  LOGIN_404010001,  LOGIN_404030001,  LOGIN_404040001,  LOGIN_404070001,  LOGIN_404080001,  LOGIN_404110001,  LOGIN_404120001,  LOGIN_404130001,  LOGIN_404140001,  LOGIN_404150001,  LOGIN_WS,  LOGIN_adm_2019_08_08,  LOGIN_admin,  LOGIN_operator2,  ownership_0,  build_year_1900,  build_year_1924,  build_year_1930,  build_year_1932,  build_year_1939,  build_year_1947,  build_year_1950,  build_year_1951,  build_year_1952,  build_year_1953,  build_year_1954,  build_year_1955,  build_year_1956,  build_year_1957,  build_year_1958,  build_year_1959,  build_year_1960,  build_year_1961,  build_year_1962,  build_year_1963,  build_year_1964,  build_year_1965,  build_year_1966,  build_year_1967,  build_year_1968,  build_year_1969,  build_year_1970,  build_year_1971,  build_year_1972,  build_year_1973,  build_year_1974,  build_year_1975,  build_year_1976,  build_year_1977,  build_year_1978,  build_year_1979,  build_year_1980,  build_year_1981,  build_year_1982,  build_year_1983,  build_year_1984,  build_year_1985,  build_year_1988,  build_year_1996,  build_year_1997,  build_year_1998,  reconst_year_0,  project_series_2048744,  project_series_2048745,  project_series_2048751,  project_series_2048752,  project_series_2048755,  project_series_2048756,  project_series_2048757,  project_series_2048758,  project_series_2048759,  project_series_2048763,  project_series_2048764,  project_series_2048765,  project_series_2048776,  project_series_2048777,  project_series_2048779,  project_series_2048780,  project_series_2048781,  project_series_2048783,  project_series_2048785,  project_series_2048787,  project_series_2048789,  project_series_2048798,  project_series_2048803,  project_series_2048824,  project_series_2048842,  project_series_2048850,  project_series_2048912,  project_series_56181305,  project_series_56183238,  project_series_56183241,  project_series_56183243,  project_series_56183245,  project_series_56183251,  project_series_56183254,  project_series_56183255,  project_series_56183256,  project_series_56183257,  project_series_56183261,  project_series_56183262,  project_series_56183263,  project_series_56183435,  project_series_73851631,  floars_10,  floars_11,  floars_12,  floars_13,  floars_14,  floars_16,  floars_17,  floars_19,  floars_22,  floars_3,  floars_4,  floars_5,  floars_6,  floars_7,  floars_8,  floars_9,  entrances_1,  entrances_10,  entrances_12,  entrances_2,  entrances_3,  entrances_4,  entrances_5,  entrances_6,  entrances_7,  entrances_8,  entrances_9,  apartments_100,  apartments_103,  apartments_105,  apartments_106,  apartments_108,  apartments_109,  apartments_110,  apartments_111,  apartments_112,  apartments_113,  apartments_116,  apartments_119,  apartments_12,  apartments_122,  apartments_123,  apartments_124,  apartments_126,  apartments_127,  apartments_128,  apartments_132,  apartments_133,  apartments_134,  apartments_135,  apartments_136,  apartments_139,  apartments_140,  apartments_141,  apartments_142,  apartments_143,  apartments_144,  apartments_150,  apartments_16,  apartments_164,  apartments_165,  apartments_167,  apartments_168,  apartments_172,  apartments_173,  apartments_176,  apartments_178,  apartments_179,  apartments_18,  apartments_180,  apartments_188,  apartments_189,  apartments_19,  apartments_190,  apartments_20,  apartments_203,  apartments_204,  apartments_205,  apartments_207,  apartments_208,  apartments_210,  apartments_211,  apartments_213,  apartments_214,  apartments_215,  apartments_216,  apartments_22,  apartments_228,  apartments_239,  apartments_24,  apartments_244,  apartments_246,  apartments_247,  apartments_248,  apartments_25,  apartments_251,  apartments_257,  apartments_267,  apartments_268,  apartments_27,  apartments_28,  apartments_284,  apartments_285,  apartments_286,  apartments_287,  apartments_288,  apartments_30,  apartments_32,  apartments_320,  apartments_346,  apartments_358,  apartments_36,  apartments_360,  apartments_379,  apartments_381,  apartments_382,  apartments_40,  apartments_425,  apartments_426,  apartments_427,  apartments_428,  apartments_429,  apartments_43,  apartments_430,  apartments_431,  apartments_45,  apartments_48,  apartments_49,  apartments_50,  apartments_52,  apartments_53,  apartments_55,  apartments_56,  apartments_57,  apartments_59,  apartments_60,  apartments_61,  apartments_62,  apartments_637,  apartments_64,  apartments_65,  apartments_66,  apartments_67,  apartments_68,  apartments_69,  apartments_70,  apartments_71,  apartments_72,  apartments_74,  apartments_78,  apartments_79,  apartments_80,  apartments_81,  apartments_82,  apartments_83,  apartments_84,  apartments_86,  apartments_88,  apartments_90,  apartments_91,  apartments_93,  apartments_94,  apartments_95,  apartments_96,  apartments_97,  apartments_98,  total_area_10225,  total_area_10329,  total_area_10358,  total_area_10376,  total_area_10403,  total_area_10412,  total_area_10434,  total_area_10527,  total_area_10583,  total_area_10616,  total_area_10625,  total_area_10629,  total_area_10664,  total_area_10665,  total_area_10674,  total_area_10700,  total_area_10711,  total_area_10744,  total_area_10754,  total_area_10791,  total_area_10811,  total_area_11011,  total_area_11039,  total_area_11331,  total_area_11348,  total_area_11514,  total_area_11522,  total_area_11541,  total_area_11560,  total_area_11748,  total_area_11798,  total_area_1208,  total_area_12095,  total_area_12108,  total_area_12429,  total_area_12464,  total_area_12850,  total_area_12900,  total_area_12923,  total_area_13363,  total_area_13655,  total_area_13693,  total_area_13953,  total_area_1410,  total_area_14219,  total_area_14312,  total_area_14348,  total_area_1437,  total_area_14389,  total_area_1441,  total_area_14536,  total_area_14556,  total_area_15503,  total_area_15591,  total_area_15700,  total_area_15741,  total_area_15778,  total_area_16304,  total_area_16552,  total_area_17149,  total_area_17372,  total_area_17429,  total_area_17470,  total_area_17550,  total_area_17567,  total_area_1758,  total_area_1765,  total_area_1766,  total_area_17803,  total_area_1796,  total_area_1854,  total_area_1894,  total_area_1924,  total_area_19352,  total_area_20261,  total_area_20310,  total_area_20327,  total_area_20782,  total_area_20917,  total_area_21103,  total_area_21269,  total_area_21323,  total_area_2267,  total_area_22761,  total_area_2306,  total_area_2441,  total_area_2455,  total_area_2458,  total_area_2473,  total_area_24843,  total_area_2486,  total_area_24864,  total_area_2515,  total_area_2517,  total_area_2531,  total_area_2534,  total_area_2542,  total_area_2546,  total_area_2551,  total_area_2576,  total_area_2585,  total_area_2593,  total_area_2599,  total_area_2608,  total_area_2657,  total_area_2659,  total_area_2670,  total_area_2715,  total_area_2726,  total_area_2760,  total_area_2769,  total_area_2896,  total_area_2903,  total_area_2973,  total_area_2981,  total_area_2997,  total_area_3026,  total_area_3034,  total_area_3035,  total_area_3036,  total_area_3070,  total_area_3124,  total_area_3140,  total_area_3185,  total_area_3191,  total_area_3295,  total_area_3395,  total_area_3396,  total_area_3403,  total_area_3408,  total_area_3414,  total_area_3416,  total_area_3424,  total_area_3428,  total_area_3445,  total_area_3451,  total_area_3464,  total_area_3471,  total_area_3477,  total_area_3503,  total_area_3540,  total_area_3542,  total_area_3561,  total_area_3590,  total_area_3591,  total_area_3595,  total_area_3598,  total_area_3607,  total_area_3610,  total_area_3615,  total_area_3619,  total_area_3620,  total_area_3622,  total_area_3623,  total_area_3624,  total_area_3632,  total_area_3633,  total_area_3635,  total_area_3641,  total_area_3644,  total_area_3645,  total_area_3651,  total_area_3652,  total_area_3653,  total_area_3661,  total_area_3664,  total_area_3667,  total_area_3668,  total_area_3677,  total_area_3690,  total_area_3692,  total_area_3810,  total_area_3813,  total_area_3844,  total_area_3846,  total_area_3861,  total_area_3867,  total_area_3872,  total_area_3904,  total_area_3929,  total_area_3943,  total_area_3965,  total_area_3978,  total_area_4036,  total_area_4063,  total_area_40839,  total_area_4110,  total_area_4121,  total_area_4129,  total_area_4138,  total_area_4186,  total_area_4194,  total_area_4209,  total_area_4218,  total_area_4235,  total_area_4239,  total_area_4240,  total_area_4242,  total_area_4247,  total_area_4248,  total_area_4256,  total_area_4260,  total_area_4261,  total_area_4263,  total_area_4265,  total_area_4269,  total_area_4274,  total_area_4275,  total_area_4276,  total_area_4277,  total_area_4279,  total_area_4285,  total_area_4290,  total_area_4300,  total_area_4306,  total_area_4320,  total_area_4321,  total_area_4406,  total_area_4450,  total_area_4482,  total_area_4499,  total_area_4538,  total_area_4544,  total_area_4554,  total_area_4574,  total_area_4579,  total_area_4593,  total_area_4624,  total_area_4713,  total_area_4811,  total_area_4868,  total_area_4947,  total_area_4953,  total_area_4967,  total_area_4982,  total_area_5028,  total_area_5032,  total_area_5080,  total_area_5094,  total_area_5131,  total_area_5154,  total_area_5168,  total_area_5222,  total_area_5272,  total_area_5277,  total_area_5303,  total_area_5304,  total_area_5310,  total_area_5312,  total_area_5314,  total_area_5321,  total_area_5324,  total_area_5342,  total_area_5344,  total_area_5350,  total_area_5355,  total_area_5359,  total_area_5366,  total_area_5379,  total_area_5384,  total_area_5447,  total_area_5448,  total_area_5480,  total_area_5508,  total_area_5544,  total_area_5755,  total_area_5845,  total_area_5862,  total_area_5869,  total_area_5872,  total_area_5875,  total_area_5892,  total_area_5921,  total_area_6042,  total_area_6046,  total_area_6167,  total_area_6171,  total_area_6180,  total_area_6230,  total_area_6235,  total_area_6307,  total_area_6405,  total_area_6523,  total_area_6717,  total_area_6790,  total_area_6897,  total_area_6946,  total_area_7004,  total_area_7102,  total_area_7119,  total_area_7121,  total_area_7132,  total_area_7145,  total_area_7146,  total_area_7148,  total_area_7162,  total_area_7187,  total_area_7211,  total_area_7227,  total_area_7231,  total_area_7232,  total_area_7233,  total_area_7236,  total_area_7239,  total_area_7242,  total_area_7243,  total_area_7254,  total_area_7291,  total_area_7301,  total_area_7311,  total_area_7360,  total_area_7380,  total_area_7395,  total_area_7542,  total_area_7629,  total_area_7685,  total_area_7816,  total_area_7834,  total_area_7873,  total_area_7889,  total_area_7927,  total_area_8128,  total_area_8145,  total_area_8158,  total_area_8159,  total_area_8209,  total_area_8299,  total_area_8334,  total_area_8402,  total_area_8405,  total_area_8457,  total_area_8508,  total_area_8603,  total_area_8656,  total_area_8674,  total_area_8678,  total_area_8680,  total_area_8688,  total_area_8690,  total_area_8692,  total_area_8697,  total_area_8706,  total_area_8707,  total_area_8715,  total_area_8719,  total_area_8730,  total_area_8746,  total_area_8759,  total_area_8777,  total_area_8815,  total_area_8853,  total_area_9103,  total_area_9315,  total_area_9329,  total_area_9606,  total_area_9670,  total_area_969,  total_area_9964,  living_area_10130,  living_area_1019,  living_area_10225,  living_area_10277,  living_area_10289,  living_area_10321,  living_area_10349,  living_area_10358,  living_area_10457,  living_area_10467,  living_area_10480,  living_area_10527,  living_area_10542,  living_area_10586,  living_area_10607,  living_area_10616,  living_area_10626,  living_area_10687,  living_area_10711,  living_area_10725,  living_area_10754,  living_area_10784,  living_area_10833,  living_area_1090,  living_area_10961,  living_area_11000,  living_area_11012,  living_area_11197,  living_area_11239,  living_area_11460,  living_area_1149,  living_area_1152,  living_area_11598,  living_area_1188,  living_area_12104,  living_area_12238,  living_area_12636,  living_area_1265,  living_area_12661,  living_area_12812,  living_area_12893,  living_area_13693,  living_area_1372,  living_area_13829,  living_area_14107,  living_area_14312,  living_area_14346,  living_area_14385,  living_area_14556,  living_area_14810,  living_area_14896,  living_area_1507,  living_area_15560,  living_area_1564,  living_area_1568,  living_area_15721,  living_area_16513,  living_area_16550,  living_area_17064,  living_area_17372,  living_area_17404,  living_area_17415,  living_area_17429,  living_area_17524,  living_area_1778,  living_area_17789,  living_area_1817,  living_area_1855,  living_area_1917,  living_area_19352,  living_area_1985,  living_area_1989,  living_area_20266,  living_area_20327,  living_area_2043,  living_area_20754,  living_area_20768,  living_area_21088,  living_area_21224,  living_area_21273,  living_area_2158,  living_area_2213,  living_area_22484,  living_area_2360,  living_area_2373,  living_area_2379,  living_area_2398,  living_area_2406,  living_area_2421,  living_area_2427,  living_area_2429,  living_area_2437,  living_area_2440,  living_area_2441,  living_area_2444,  living_area_24506,  living_area_2459,  living_area_24707,  living_area_2471,  living_area_2473,  living_area_2484,  living_area_2486,  living_area_2496,  living_area_2499,  living_area_2515,  living_area_2517,  living_area_2522,  living_area_2541,  living_area_2548,  living_area_2573,  living_area_2576,  living_area_2582,  living_area_2585,  living_area_2588,  living_area_2590,  living_area_2598,  living_area_2637,  living_area_2643,  living_area_2706,  living_area_2790,  living_area_2891,  living_area_2903,  living_area_2911,  living_area_2935,  living_area_3053,  living_area_3074,  living_area_3138,  living_area_3145,  living_area_3160,  living_area_3163,  living_area_3166,  living_area_3171,  living_area_3240,  living_area_3250,  living_area_3261,  living_area_3280,  living_area_3301,  living_area_3312,  living_area_3360,  living_area_3362,  living_area_3378,  living_area_3392,  living_area_3395,  living_area_3399,  living_area_3415,  living_area_3418,  living_area_3430,  living_area_3436,  living_area_3440,  living_area_3446,  living_area_3447,  living_area_3455,  living_area_3460,  living_area_3461,  living_area_3470,  living_area_3471,  living_area_3473,  living_area_3475,  living_area_3477,  living_area_3492,  living_area_3506,  living_area_3510,  living_area_3522,  living_area_3546,  living_area_3557,  living_area_3558,  living_area_3580,  living_area_3588,  living_area_3598,  living_area_3606,  living_area_3607,  living_area_3619,  living_area_3620,  living_area_3622,  living_area_3623,  living_area_3624,  living_area_3632,  living_area_3633,  living_area_3635,  living_area_3641,  living_area_3651,  living_area_3652,  living_area_3653,  living_area_3661,  living_area_3664,  living_area_3667,  living_area_3677,  living_area_3733,  living_area_3811,  living_area_3830,  living_area_3839,  living_area_3861,  living_area_3867,  living_area_3875,  living_area_3898,  living_area_3970,  living_area_4027,  living_area_4034,  living_area_4035,  living_area_4037,  living_area_4057,  living_area_40588,  living_area_4062,  living_area_4097,  living_area_4108,  living_area_4130,  living_area_4154,  living_area_4188,  living_area_4190,  living_area_4194,  living_area_4206,  living_area_4209,  living_area_4218,  living_area_4235,  living_area_4239,  living_area_4240,  living_area_4242,  living_area_4247,  living_area_4248,  living_area_4249,  living_area_4256,  living_area_4260,  living_area_4263,  living_area_4265,  living_area_4266,  living_area_4269,  living_area_4274,  living_area_4279,  living_area_4282,  living_area_4285,  living_area_4385,  living_area_4413,  living_area_4477,  living_area_4517,  living_area_4521,  living_area_4575,  living_area_4868,  living_area_4910,  living_area_4953,  living_area_4961,  living_area_4990,  living_area_5038,  living_area_5043,  living_area_5071,  living_area_5112,  living_area_5131,  living_area_5150,  living_area_5154,  living_area_5209,  living_area_5267,  living_area_5292,  living_area_5293,  living_area_5301,  living_area_5323,  living_area_5326,  living_area_5359,  living_area_5372,  living_area_5375,  living_area_5452,  living_area_5457,  living_area_5459,  living_area_5468,  living_area_5504,  living_area_5517,  living_area_5750,  living_area_5829,  living_area_5836,  living_area_5839,  living_area_5843,  living_area_5859,  living_area_6012,  living_area_6021,  living_area_6040,  living_area_6116,  living_area_6161,  living_area_6169,  living_area_6246,  living_area_6342,  living_area_6387,  living_area_6775,  living_area_6784,  living_area_6869,  living_area_6891,  living_area_6987,  living_area_7020,  living_area_7022,  living_area_7026,  living_area_7034,  living_area_7088,  living_area_7100,  living_area_7102,  living_area_7119,  living_area_7121,  living_area_7146,  living_area_7159,  living_area_7185,  living_area_7187,  living_area_7227,  living_area_7228,  living_area_7232,  living_area_7236,  living_area_7239,  living_area_7254,  living_area_7256,  living_area_7291,  living_area_7301,  living_area_7311,  living_area_7312,  living_area_7360,  living_area_7375,  living_area_7380,  living_area_7438,  living_area_7528,  living_area_7621,  living_area_7625,  living_area_7629,  living_area_7741,  living_area_7790,  living_area_7814,  living_area_7816,  living_area_7855,  living_area_7870,  living_area_7889,  living_area_7911,  living_area_8071,  living_area_8096,  living_area_8111,  living_area_8141,  living_area_8158,  living_area_8187,  living_area_8189,  living_area_8219,  living_area_8243,  living_area_8299,  living_area_8556,  living_area_8574,  living_area_8586,  living_area_8638,  living_area_8639,  living_area_8640,  living_area_8676,  living_area_8680,  living_area_8702,  living_area_8711,  living_area_8714,  living_area_8751,  living_area_8760,  living_area_8762,  living_area_8827,  living_area_8839,  living_area_8947,  living_area_9200,  living_area_946,  living_area_9622,  living_area_9834,  nonliving_area_0,  nonliving_area_100,  nonliving_area_1011,  nonliving_area_1021,  nonliving_area_1023,  nonliving_area_1032,  nonliving_area_1040,  nonliving_area_1044,  nonliving_area_1046,  nonliving_area_1054,  nonliving_area_1058,  nonliving_area_1060,  nonliving_area_1065,  nonliving_area_107,  nonliving_area_11,  nonliving_area_112,  nonliving_area_1131,  nonliving_area_1137,  nonliving_area_115,  nonliving_area_1156,  nonliving_area_116,  nonliving_area_1170,  nonliving_area_1180,  nonliving_area_1188,  nonliving_area_1189,  nonliving_area_119,  nonliving_area_122,  nonliving_area_1220,  nonliving_area_1222,  nonliving_area_123,  nonliving_area_124,  nonliving_area_1256,  nonliving_area_1263,  nonliving_area_1267,  nonliving_area_129,  nonliving_area_13,  nonliving_area_131,  nonliving_area_135,  nonliving_area_1353,  nonliving_area_1377,  nonliving_area_1396,  nonliving_area_14,  nonliving_area_140,  nonliving_area_1414,  nonliving_area_142,  nonliving_area_1420,  nonliving_area_1428,  nonliving_area_146,  nonliving_area_1460,  nonliving_area_1461,  nonliving_area_1463,  nonliving_area_147,  nonliving_area_1487,  nonliving_area_1488,  nonliving_area_15,  nonliving_area_154,  nonliving_area_157,  nonliving_area_16,  nonliving_area_162,  nonliving_area_163,  nonliving_area_1643,  nonliving_area_165,  nonliving_area_1661,  nonliving_area_167,  nonliving_area_1683,  nonliving_area_17,  nonliving_area_173,  nonliving_area_1747,  nonliving_area_178,  nonliving_area_18,  nonliving_area_185,  nonliving_area_19,  nonliving_area_191,  nonliving_area_2,  nonliving_area_20,  nonliving_area_2007,  nonliving_area_2057,  nonliving_area_207,  nonliving_area_209,  nonliving_area_21,  nonliving_area_211,  nonliving_area_22,  nonliving_area_226,  nonliving_area_23,  nonliving_area_239,  nonliving_area_24,  nonliving_area_2402,  nonliving_area_243,  nonliving_area_245,  nonliving_area_248,  nonliving_area_251,  nonliving_area_257,  nonliving_area_258,  nonliving_area_26,  nonliving_area_2600,  nonliving_area_2630,  nonliving_area_27,  nonliving_area_271,  nonliving_area_2720,  nonliving_area_277,  nonliving_area_282,  nonliving_area_288,  nonliving_area_289,  nonliving_area_29,  nonliving_area_290,  nonliving_area_2966,  nonliving_area_297,  nonliving_area_3,  nonliving_area_30,  nonliving_area_31,  nonliving_area_313,  nonliving_area_3141,  nonliving_area_316,  nonliving_area_317,  nonliving_area_32,  nonliving_area_320,  nonliving_area_33,  nonliving_area_3317,  nonliving_area_332,  nonliving_area_333,  nonliving_area_335,  nonliving_area_337,  nonliving_area_34,  nonliving_area_3402,  nonliving_area_3418,  nonliving_area_349,  nonliving_area_356,  nonliving_area_363,  nonliving_area_3668,  nonliving_area_37,  nonliving_area_3711,  nonliving_area_386,  nonliving_area_39,  nonliving_area_393,  nonliving_area_4,  nonliving_area_40,  nonliving_area_407,  nonliving_area_422,  nonliving_area_426,  nonliving_area_44,  nonliving_area_444,  nonliving_area_447,  nonliving_area_45,  nonliving_area_451,  nonliving_area_457,  nonliving_area_461,  nonliving_area_463,  nonliving_area_464,  nonliving_area_473,  nonliving_area_48,  nonliving_area_482,  nonliving_area_485,  nonliving_area_487,  nonliving_area_488,  nonliving_area_491,  nonliving_area_492,  nonliving_area_498,  nonliving_area_5,  nonliving_area_50,  nonliving_area_509,  nonliving_area_51,  nonliving_area_510,  nonliving_area_511,  nonliving_area_517,  nonliving_area_522,  nonliving_area_528,  nonliving_area_529,  nonliving_area_53,  nonliving_area_536,  nonliving_area_537,  nonliving_area_54,  nonliving_area_544,  nonliving_area_55,  nonliving_area_550,  nonliving_area_559,  nonliving_area_56,  nonliving_area_566,  nonliving_area_57,  nonliving_area_58,  nonliving_area_580,  nonliving_area_6,  nonliving_area_61,  nonliving_area_617,  nonliving_area_619,  nonliving_area_62,  nonliving_area_629,  nonliving_area_63,  nonliving_area_64,  nonliving_area_647,  nonliving_area_651,  nonliving_area_66,  nonliving_area_665,  nonliving_area_676,  nonliving_area_693,  nonliving_area_695,  nonliving_area_696,  nonliving_area_7,  nonliving_area_700,  nonliving_area_71,  nonliving_area_711,  nonliving_area_716,  nonliving_area_72,  nonliving_area_723,  nonliving_area_724,  nonliving_area_726,  nonliving_area_745,  nonliving_area_75,  nonliving_area_764,  nonliving_area_774,  nonliving_area_783,  nonliving_area_790,  nonliving_area_804,  nonliving_area_820,  nonliving_area_822,  nonliving_area_846,  nonliving_area_85,  nonliving_area_861,  nonliving_area_868,  nonliving_area_871,  nonliving_area_9,  nonliving_area_90,  nonliving_area_93,  nonliving_area_980,  nonliving_area_99,  nonliving_area_995,  nonliving_area_999,  construction_volume_0,  construction_volume_0,  depreciation_object_0,  depreciation_object_0,  energyefficiency_class_0,  wall_material_179625089,  wall_material_179625090,  wall_material_179625095,  wall_material_179625097,  wall_material_179625102,  wall_material_179625104,  wall_material_179625107,  wall_material_2048929,  wall_material_261908925,  sign_building_failure_22728486,  passenger_elevators_0,  passenger_elevators_1,  passenger_elevators_10,  passenger_elevators_12,  passenger_elevators_16,  passenger_elevators_18,  passenger_elevators_2,  passenger_elevators_3,  passenger_elevators_4,  passenger_elevators_5,  passenger_elevators_6,  passenger_elevators_7,  passenger_elevators_8,  passenger_elevators_9,  passenger_freight_elevators_0,  passenger_freight_elevators_1,  passenger_freight_elevators_10,  passenger_freight_elevators_2,  passenger_freight_elevators_3,  passenger_freight_elevators_4,  passenger_freight_elevators_5,  passenger_freight_elevators_7,  passenger_freight_elevators_9,  roof_cleaning_0,  roof_cleaning_22289162,  roof_cleaning_22289163,  COL_781_22289201,  COL_781_22289204,  COL_781_22289205,  COL_781_22289214,  type_social_object_0,  type_housing_stock_42875644,  status_MKD_58761330,  management_status_MKD_45063109,  management_status_MKD_45063584,  management_status_MKD_45063585,  freight_elevators_0,  reason_changing_status_MKD_0,  category_MKD_0,  "
     ]
    }
   ],
   "source": [
    "for c in new_df_tmp.columns:\n",
    "    print(c, end=',  ')"
   ]
  },
  {
   "cell_type": "code",
   "execution_count": null,
   "metadata": {
    "ExecuteTime": {
     "end_time": "2023-05-21T10:40:12.630978Z",
     "start_time": "2023-05-21T10:40:12.568147Z"
    }
   },
   "outputs": [],
   "source": [
    "scaler = MinMaxScaler()\n",
    "new_df_tmp = pd.DataFrame(scaler.fit_transform(new_df_tmp), columns=new_df_tmp.columns)\n",
    "new_df_tmp = new_df_tmp.fillna(0)"
   ]
  },
  {
   "cell_type": "code",
   "execution_count": null,
   "metadata": {
    "ExecuteTime": {
     "end_time": "2023-05-21T10:34:58.617235Z",
     "start_time": "2023-05-21T10:34:58.508969Z"
    }
   },
   "outputs": [],
   "source": []
  },
  {
   "cell_type": "code",
   "execution_count": null,
   "metadata": {
    "ExecuteTime": {
     "end_time": "2023-05-21T10:17:03.783224Z",
     "start_time": "2023-05-21T10:16:17.536379Z"
    }
   },
   "outputs": [],
   "source": [
    "new_df_tmp = pd.get_dummies(df_tmp)\n",
    "scaler = MinMaxScaler()\n",
    "new_df_tmp = pd.DataFrame(scaler.fit_transform(new_df_tmp), columns=new_df_tmp.columns)\n",
    "new_df_tmp = new_df_tmp.fillna(0)\n",
    "\n",
    "new_obj_df_tmp = pd.get_dummies(df_obj_tmp)\n",
    "scaler2 = MinMaxScaler()\n",
    "new_obj_df_tmp = pd.DataFrame(scaler2.fit_transform(new_obj_df_tmp), columns=new_obj_df_tmp.columns)\n",
    "new_obj_df_tmp = new_obj_df_tmp.fillna(0)"
   ]
  },
  {
   "cell_type": "code",
   "execution_count": null,
   "metadata": {
    "ExecuteTime": {
     "end_time": "2023-05-21T10:17:06.250676Z",
     "start_time": "2023-05-21T10:17:06.209733Z"
    }
   },
   "outputs": [],
   "source": [
    "df_obj_tmp.head"
   ]
  },
  {
   "cell_type": "code",
   "execution_count": null,
   "metadata": {
    "ExecuteTime": {
     "end_time": "2023-05-21T10:17:29.371969Z",
     "start_time": "2023-05-21T10:17:29.348033Z"
    }
   },
   "outputs": [],
   "source": [
    "print(new_obj_df_tmp.dtypes)"
   ]
  },
  {
   "cell_type": "code",
   "execution_count": null,
   "metadata": {
    "ExecuteTime": {
     "end_time": "2023-05-21T10:18:25.001317Z",
     "start_time": "2023-05-21T10:18:24.810416Z"
    }
   },
   "outputs": [],
   "source": [
    "for c in new_obj_df_tmp.columns:\n",
    "    print(c)"
   ]
  },
  {
   "cell_type": "code",
   "execution_count": null,
   "metadata": {},
   "outputs": [],
   "source": [
    "merged_df = new_obj_df_tmp.merge(new_df_tmp, on='unom', how='inner')"
   ]
  },
  {
   "cell_type": "code",
   "execution_count": null,
   "metadata": {
    "ExecuteTime": {
     "end_time": "2023-05-20T11:28:28.975886Z",
     "start_time": "2023-05-20T11:28:28.408726Z"
    }
   },
   "outputs": [],
   "source": [
    "for col in df_tmp:\n",
    "    print(df_tmp[col].unique())"
   ]
  },
  {
   "cell_type": "code",
   "execution_count": null,
   "metadata": {},
   "outputs": [],
   "source": [
    "new_df = df_tmp[df_tmp['source'] == 'EDC'].copy()\n",
    "new_df"
   ]
  },
  {
   "cell_type": "code",
   "execution_count": null,
   "metadata": {},
   "outputs": [],
   "source": [
    "for col in df_tmp:\n",
    "    print(new_df[col].unique())"
   ]
  },
  {
   "cell_type": "code",
   "execution_count": null,
   "metadata": {},
   "outputs": [],
   "source": []
  },
  {
   "cell_type": "code",
   "execution_count": null,
   "metadata": {},
   "outputs": [],
   "source": [
    "print(new_df_tmp.columns)\n",
    "new_df_tmp.to_csv('tmp.csv')"
   ]
  },
  {
   "cell_type": "code",
   "execution_count": null,
   "metadata": {},
   "outputs": [],
   "source": [
    "from sklearn.cluster import KMeans\n",
    "\n",
    "# Определение числа кластеров (можно изменить в зависимости от ваших потребностей)\n",
    "n_clusters = 5\n",
    "\n",
    "# Создание модели KMeans\n",
    "kmeans = KMeans(n_clusters=n_clusters)\n",
    "\n",
    "# Обучение модели и присвоение меток кластеров объектам\n",
    "new_df_tmp['cluster'] = kmeans.fit_predict(new_df_tmp)\n",
    "\n",
    "# Вывод первых нескольких строк данных с метками кластеров\n",
    "print(new_df_tmp.head())"
   ]
  },
  {
   "cell_type": "code",
   "execution_count": null,
   "metadata": {
    "ExecuteTime": {
     "end_time": "2023-05-19T15:18:45.441331Z",
     "start_time": "2023-05-19T15:18:45.310674Z"
    }
   },
   "outputs": [],
   "source": [
    "df_obj_tmp.describe()\n",
    "for col in df_obj_tmp:\n",
    "    print(df_obj_tmp[col].unique())"
   ]
  },
  {
   "cell_type": "code",
   "execution_count": null,
   "metadata": {
    "ExecuteTime": {
     "end_time": "2023-05-19T15:21:09.140660Z",
     "start_time": "2023-05-19T15:19:51.841630Z"
    }
   },
   "outputs": [],
   "source": [
    "df_obj_tmp['ID'] = df_obj_tmp['ID'].astype(int)\n",
    "df_obj_tmp = pd.get_dummies(df_obj_tmp)\n",
    "scaler = MinMaxScaler()\n",
    "df_obj_tmp = pd.DataFrame(scaler.fit_transform(df_obj_tmp), columns=df_obj_tmp.columns)\n",
    "df_obj_tmp"
   ]
  },
  {
   "cell_type": "code",
   "execution_count": null,
   "metadata": {},
   "outputs": [],
   "source": [
    "df_merged = pd.concat([df_tmp, df_obj_tmp], ignore_index=True, sort=False)\n",
    "df_merged"
   ]
  },
  {
   "cell_type": "code",
   "execution_count": null,
   "metadata": {},
   "outputs": [],
   "source": []
  },
  {
   "cell_type": "code",
   "execution_count": null,
   "metadata": {},
   "outputs": [],
   "source": []
  },
  {
   "cell_type": "code",
   "execution_count": null,
   "metadata": {},
   "outputs": [],
   "source": []
  },
  {
   "cell_type": "code",
   "execution_count": null,
   "metadata": {},
   "outputs": [],
   "source": []
  },
  {
   "cell_type": "code",
   "execution_count": null,
   "metadata": {},
   "outputs": [],
   "source": []
  },
  {
   "cell_type": "code",
   "execution_count": null,
   "metadata": {},
   "outputs": [],
   "source": [
    "df_houses_by_unom = df_multi_houses_characts_tmp.loc[df_multi_houses_characts_tmp['unom'] == '20151']\n",
    "df_houses_by_unom.head()"
   ]
  },
  {
   "cell_type": "code",
   "execution_count": null,
   "metadata": {},
   "outputs": [],
   "source": [
    "incidents_by_unom = df_incidents_tmp.loc[df_incidents_tmp['unom'] == 2404461]\n",
    "incidents_by_unom.head()"
   ]
  },
  {
   "cell_type": "code",
   "execution_count": null,
   "metadata": {},
   "outputs": [],
   "source": [
    "complex_df = df_works_done_tmp\n",
    "\n",
    "for unom in df_works_done_tmp['UNOM']:\n",
    "    incidents_by_unom = df_incidents_tmp.loc[df_incidents_tmp['unom'] == unom]\n",
    "\n",
    "    if len(incidents_by_unom) > 0:\n",
    "        complex_df['incident_name'] = incidents_by_unom['incident_name']\n",
    "        complex_df['source'] = incidents_by_unom['source']\n",
    "        complex_df['external_create_date_year'] = incidents_by_unom['external_create_date_year']\n",
    "        complex_df['external_create_date_month'] = incidents_by_unom['external_create_date_month']\n",
    "        complex_df['external_create_date_day'] = incidents_by_unom['external_create_date_day']\n",
    "        complex_df['done_date_year'] = incidents_by_unom['done_date_year']\n",
    "        complex_df['done_date_month'] = incidents_by_unom['done_date_month']\n",
    "        complex_df['done_date_day'] = incidents_by_unom['done_date_day']\n",
    "        complex_df['close_date_year'] = incidents_by_unom['close_date_year']\n",
    "        complex_df['close_date_month'] = incidents_by_unom['close_date_month']\n",
    "        complex_df['close_date_day'] = incidents_by_unom['close_date_day']\n",
    "        \n",
    "    # type_housing_stock status_MKD management_status_MKD freight_elevators reason_changing_status_MKD category_MKD \n",
    "    objects_by_unom = df_multi_houses_characts_tmp.loc[df_multi_houses_characts_tmp['unom'] == str(unom)]\n",
    "    if len(objects_by_unom) > 0:\n",
    "        complex_df['build_year'] = objects_by_unom['build_year']\n",
    "        complex_df['ownership'] = objects_by_unom['ownership']\n",
    "        complex_df['reconst_year'] = objects_by_unom['reconst_year']\n",
    "        complex_df['project_series'] = objects_by_unom['project_series']\n",
    "        complex_df['floars'] = objects_by_unom['floars']\n",
    "        complex_df['entrances'] = objects_by_unom['entrances']\n",
    "        complex_df['apartments'] = objects_by_unom['apartments']\n",
    "        complex_df['total_area'] = objects_by_unom['total_area']\n",
    "        complex_df['living_area'] = objects_by_unom['living_area']\n",
    "        complex_df['nonliving_area'] = objects_by_unom['nonliving_area']\n",
    "        complex_df['construction_volume'] = objects_by_unom['construction_volume']\n",
    "        complex_df['nonliving_area'] = objects_by_unom['nonliving_area']\n",
    "        complex_df['depreciation_object'] = objects_by_unom['depreciation_object']\n",
    "        complex_df['energyefficiency_class'] = objects_by_unom['energyefficiency_class']\n",
    "        complex_df['wall_material'] = objects_by_unom['wall_material']\n",
    "        complex_df['sign_building_failure'] = objects_by_unom['sign_building_failure']\n",
    "        complex_df['passenger_elevators'] = objects_by_unom['passenger_elevators']\n",
    "        complex_df['passenger_freight_elevators'] = objects_by_unom['passenger_freight_elevators']\n",
    "        complex_df['roof_cleaning'] = objects_by_unom['roof_cleaning']\n",
    "        complex_df['passenger_freight_elevators'] = objects_by_unom['passenger_freight_elevators']\n",
    "        complex_df['COL_781'] = objects_by_unom['COL_781']\n",
    "        complex_df['type_social_object'] = objects_by_unom['type_social_object']\n",
    "        complex_df['type_housing_stock'] = objects_by_unom['type_housing_stock']\n",
    "        complex_df['status_MKD'] = objects_by_unom['status_MKD']\n",
    "        complex_df['management_status_MKD'] = objects_by_unom['management_status_MKD']\n",
    "        complex_df['freight_elevators'] = objects_by_unom['freight_elevators']\n",
    "        complex_df['reason_changing_status_MKD'] = objects_by_unom['reason_changing_status_MKD']\n",
    "        complex_df['category_MKD'] = objects_by_unom['category_MKD']\n",
    "        \n",
    "print(complex_df.head())\n",
    "complex_df.to_csv('complex_df.csv')"
   ]
  }
 ],
 "metadata": {
  "kernelspec": {
   "display_name": "Python 3 (ipykernel)",
   "language": "python",
   "name": "python3"
  },
  "language_info": {
   "codemirror_mode": {
    "name": "ipython",
    "version": 3
   },
   "file_extension": ".py",
   "mimetype": "text/x-python",
   "name": "python",
   "nbconvert_exporter": "python",
   "pygments_lexer": "ipython3",
   "version": "3.10.10"
  }
 },
 "nbformat": 4,
 "nbformat_minor": 1
}
